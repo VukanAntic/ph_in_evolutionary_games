{
 "cells": [
  {
   "cell_type": "code",
   "execution_count": 107,
   "id": "6aeacdcf",
   "metadata": {},
   "outputs": [],
   "source": [
    "import enum\n",
    "import random\n",
    "\n",
    "import matplotlib.pyplot as plt\n",
    "from matplotlib import colors\n",
    "\n",
    "import numpy as np\n",
    "\n",
    "import copy"
   ]
  },
  {
   "cell_type": "code",
   "execution_count": 108,
   "id": "2bf74ef2",
   "metadata": {},
   "outputs": [],
   "source": [
    "# cooperate => True\n",
    "# defect => False"
   ]
  },
  {
   "cell_type": "code",
   "execution_count": 109,
   "id": "8cf5970a",
   "metadata": {},
   "outputs": [],
   "source": [
    "class TypeOfStrategy(enum.Enum):\n",
    "    Defactor = 1\n",
    "    Cooperator = 2\n",
    "    Tit_for_tat = 3\n",
    "    Anti_tit_for_tat = 4\n",
    "    \n",
    "def chr2strategy(strategy):\n",
    "    if strategy == 'D':\n",
    "        return TypeOfStrategy.Defactor\n",
    "    if strategy == 'C':\n",
    "        return TypeOfStrategy.Cooperator\n",
    "    if strategy == 'T':\n",
    "        return TypeOfStrategy.Tit_for_tat\n",
    "    if strategy == 'A':\n",
    "        return TypeOfStrategy.Anti_tit_for_tat\n",
    "    return None\n",
    "\n",
    "def strategy2chr(strategy):\n",
    "    if strategy == TypeOfStrategy.Defactor:\n",
    "        return 'D'\n",
    "    if strategy == TypeOfStrategy.Cooperator:\n",
    "        return 'C'\n",
    "    if strategy == TypeOfStrategy.Tit_for_tat:\n",
    "        return 'T'\n",
    "    if strategy == TypeOfStrategy.Anti_tit_for_tat:\n",
    "        return 'A'\n",
    "    return None"
   ]
  },
  {
   "cell_type": "code",
   "execution_count": 110,
   "id": "8a9264af",
   "metadata": {},
   "outputs": [],
   "source": [
    "# strategija bira uz pomoc next_move koju ce vrednost nas igrac dati (tj. da li ce coop ili defect)\n",
    "class Strategy:    \n",
    "    \n",
    "    def __init__(self, type_of_strategy):\n",
    "        self.type_of_strategy = type_of_strategy\n",
    "        self.previous_move = None\n",
    "        \n",
    "    def next_move(self, previous_enemy_move):        \n",
    "        if previous_enemy_move == None:\n",
    "            if self.type_of_strategy == TypeOfStrategy.Cooperator or self.type_of_strategy == TypeOfStrategy.Tit_for_tat:\n",
    "                self.previous_move = True\n",
    "                return True\n",
    "            else:\n",
    "                self.previous_move = False\n",
    "                return False\n",
    "        else:\n",
    "            if self.type_of_strategy == TypeOfStrategy.Cooperator:\n",
    "                self.previous_move = True\n",
    "                return True\n",
    "            if self.type_of_strategy == TypeOfStrategy.Defactor:\n",
    "                self.previous_move = False\n",
    "                return False\n",
    "            if self.type_of_strategy == TypeOfStrategy.Tit_for_tat:\n",
    "                self.previous_move = previous_enemy_move\n",
    "                return previous_enemy_move\n",
    "            if self.type_of_strategy == TypeOfStrategy.Anti_tit_for_tat:\n",
    "                self.previous_move = not previous_enemy_move\n",
    "                return not previous_enemy_move\n",
    "    \n",
    "    def __str__(self):\n",
    "        return f\"Stg({strategy2chr(self.type_of_strategy)})\""
   ]
  },
  {
   "cell_type": "code",
   "execution_count": 111,
   "id": "0c7a5a93",
   "metadata": {},
   "outputs": [],
   "source": [
    "# vrednosti kao rate_of_senescence i max_score su uvek iste, pa neka budu staticke\n",
    "class Player:\n",
    "    rate_of_senescence = float('inf')\n",
    "    maximum_score = 4\n",
    "    starting_score = 2\n",
    "    \n",
    "    mutation_probability = 0.0\n",
    "    starting_age = 0\n",
    "    \n",
    "    def __init__(self, type_of_strategy, i, j):\n",
    "        self.strategy = Strategy(type_of_strategy)\n",
    "        self.age = Player.starting_age\n",
    "        self.score = Player.starting_score\n",
    "        self.i = i\n",
    "        self.j = j\n",
    "     \n",
    "    def check_death(self):\n",
    "        chance_death_old_age = (self.age / Player.rate_of_senescence) - 1 \n",
    "        # ocemo biramo da jedan umre at a time, ili samo ovako?\n",
    "        if random.random() < chance_death_old_age or self.score <= 0:\n",
    "            return True\n",
    "        return False\n",
    "    \n",
    "    def reborn(self, neighbours):\n",
    "        # moguci ishodi:\n",
    "        # 1) kopira sve od random suseda\n",
    "        # 2) mutacija => mala verovatnoca, uzima skroz random strategiju, i pocinje ispocetka\n",
    "        if random.random() < Player.mutation_probability:\n",
    "            self.mutation()\n",
    "        else:\n",
    "            selected_neighbour = random.choice(neighbours)\n",
    "            self.strategy = Strategy(selected_neighbour.strategy.type_of_strategy)\n",
    "            # pitaj andriju, skroz konfuzno\n",
    "            # self.strategy.previous_move = selected_neighbour.strategy.previous_move\n",
    "            self.score = selected_neighbour.score\n",
    "        self.age = 0\n",
    "            \n",
    "    def mutation(self):\n",
    "        # mala sansa da uzme random strategiju\n",
    "        self.strategy = Strategy(TypeOfStrategy(random.randint(1, len(TypeOfStrategy))))\n",
    "        self.age = Player.starting_age        \n",
    "        self.score = Player.starting_score\n",
    "        \n",
    "    def __str__(self):\n",
    "        return f\"Ply({self.strategy}, Age({self.age}), Scr({self.score}))\"\n"
   ]
  },
  {
   "cell_type": "code",
   "execution_count": 112,
   "id": "d1c456a2",
   "metadata": {},
   "outputs": [],
   "source": [
    "payoff_values = {\n",
    "    \"T\" : 2,\n",
    "    \"R\" : 1,\n",
    "    \"P\" : 0,\n",
    "    \"S\" : -1\n",
    "}"
   ]
  },
  {
   "cell_type": "code",
   "execution_count": 113,
   "id": "1b76e8eb",
   "metadata": {},
   "outputs": [],
   "source": [
    "class Game:\n",
    "    Cooperate = True\n",
    "    Defect = False\n",
    "    \n",
    "    def __init__(self, payoff_values, n=10, initial_state=None, num_of_iterations=10, mutation_rate=0.0, rate_of_senescence=float('inf')):\n",
    "        self.payoff_matrix = self.__set_payoff_matrix(payoff_values)\n",
    "        self.n = n if initial_state is None else len(initial_state)\n",
    "        self.state = self.__process_initial_state(n, initial_state)\n",
    "        self.all_states = []\n",
    "        self.num_of_iterations = num_of_iterations\n",
    "        self.strategy_counter = []\n",
    "        # svaki put kad kreiramo igru, postavljamo staticku vrednost mut_rate za trenutni game (podrazumevano 0)\n",
    "        Player.mutation_probability = mutation_rate\n",
    "        Player.rate_of_senescence = rate_of_senescence\n",
    "     \n",
    "    def __set_payoff_matrix(self, payoff_values):\n",
    "        return {\n",
    "            (Game.Cooperate, Game.Cooperate) : (payoff_values[\"R\"], payoff_values[\"R\"]),\n",
    "            (Game.Cooperate, Game.Defect) : (payoff_values[\"S\"], payoff_values[\"T\"]),\n",
    "            (Game.Defect, Game.Cooperate) : (payoff_values[\"T\"], payoff_values[\"S\"]),\n",
    "            (Game.Defect, Game.Defect) : (payoff_values[\"P\"], payoff_values[\"P\"])\n",
    "        }\n",
    "    \n",
    "    def __process_initial_state(self, n, initial_state):\n",
    "        state = []\n",
    "        \n",
    "        if initial_state is not None:\n",
    "            state = [[Player(chr2strategy(strategy), i, j) for j, strategy in enumerate(row)] for i, row in enumerate(initial_state)]\n",
    "        else:\n",
    "            state = [[Player(TypeOfStrategy(random.randint(1, 4)), i, j) for j in range(n)] for i in range(n)]\n",
    "        \n",
    "        return state\n",
    "    \n",
    "    def __neighbours(self, i, j):\n",
    "        neighbours = []\n",
    "        if i > 0 and j > 0:\n",
    "            neighbours.append(self.state[i-1][j-1])\n",
    "        if i > 0:\n",
    "            neighbours.append(self.state[i-1][j])\n",
    "        if i > 0 and j < self.n - 1:\n",
    "            neighbours.append(self.state[i-1][j+1])\n",
    "        if j > 0:\n",
    "            neighbours.append(self.state[i][j-1])\n",
    "        if j < self.n - 1:\n",
    "            neighbours.append(self.state[i][j+1])\n",
    "        if i < self.n - 1 and j > 0:\n",
    "            neighbours.append(self.state[i+1][j-1])\n",
    "        if i < self.n - 1:\n",
    "            neighbours.append(self.state[i+1][j])\n",
    "        if i < self.n - 1 and j < self.n - 1:\n",
    "            neighbours.append(self.state[i+1][j+1])\n",
    "        return neighbours\n",
    "    \n",
    "    def __select_neighbour_index(self, i, j):\n",
    "        indices = []\n",
    "        if i > 0 and j > 0:\n",
    "            indices.append((i-1, j-1))\n",
    "        if i > 0:\n",
    "            indices.append((i-1, j))\n",
    "        if i > 0 and j < self.n - 1:\n",
    "            indices.append((i-1, j+1))\n",
    "        if j > 0:\n",
    "            indices.append((i, j-1))\n",
    "        if j < self.n - 1:\n",
    "            indices.append((i, j+1))\n",
    "        if i < self.n - 1 and j > 0:\n",
    "            indices.append((i+1, j-1))\n",
    "        if i < self.n - 1:\n",
    "            indices.append((i+1, j))\n",
    "        if i < self.n - 1 and j < self.n - 1:\n",
    "            indices.append((i+1, j+1))\n",
    "            \n",
    "        index = random.randint(0, len(indices) - 1)\n",
    "        \n",
    "        return indices[index]\n",
    "    \n",
    "    def __players_interations(self, player1, player2, neighbours1, neighbours2):\n",
    "        p1_move = player1.strategy.next_move(player2.strategy.previous_move)\n",
    "        p2_move = player2.strategy.next_move(player1.strategy.previous_move)    \n",
    "        #print(f'Moves: {p1_move}, {p2_move}')\n",
    "        p1_payoff_value, p2_payoff_value = self.payoff_matrix[(p1_move, p2_move)]\n",
    "    \n",
    "        #print(f'Payoff: {p1_payoff_value}, {p2_payoff_value}')\n",
    "        player1.score += p1_payoff_value\n",
    "        player2.score += p2_payoff_value\n",
    "    \n",
    "        if player1.check_death():\n",
    "            player1.reborn(neighbours1)\n",
    "        if player2.check_death():\n",
    "            player2.reborn(neighbours2)\n",
    "    \n",
    "    def play_game(self):\n",
    "        \n",
    "        for iteration in range(self.num_of_iterations):\n",
    "            #print(f\"Iterations #: {iteration + 1}\")\n",
    "            self.all_states.append(copy.deepcopy(self.state))\n",
    "            \n",
    "            #self.print_strategy_matrix()\n",
    "            #self.print_score_matrix()\n",
    "            #self.print_age_matrix()\n",
    "            \n",
    "            self.strategy_counter.append(\n",
    "                {\n",
    "                    TypeOfStrategy.Cooperator: self.count_stategy(TypeOfStrategy.Cooperator), \n",
    "                    TypeOfStrategy.Defactor: self.count_stategy(TypeOfStrategy.Defactor),\n",
    "                    TypeOfStrategy.Tit_for_tat: self.count_stategy(TypeOfStrategy.Tit_for_tat),\n",
    "                    TypeOfStrategy.Anti_tit_for_tat: self.count_stategy(TypeOfStrategy.Anti_tit_for_tat)\n",
    "                }\n",
    "            )\n",
    "            \n",
    "            #print(self.strategy_counter[-1])\n",
    "                                          \n",
    "            # Update game\n",
    "            for i in range(self.n):\n",
    "                for j in range(self.n):\n",
    "                    #print(f'Player: {i}, {j}')\n",
    "                    player1 = self.state[i][j]\n",
    "                    neighbours1 = self.__neighbours(i, j)\n",
    "                    \n",
    "                    (neighbour_i, neighbour_j) = self.__select_neighbour_index(i, j)\n",
    "                    player2 = self.state[neighbour_i][neighbour_j]\n",
    "                    neighbours2 = self.__neighbours(neighbour_i, neighbour_j)\n",
    "                    \n",
    "                    self.__players_interations(player1, player2, neighbours1, neighbours2)\n",
    "                    player1.age += 1\n",
    "                    \n",
    "        return \n",
    "    \n",
    "    def num_of_players(self):\n",
    "        return self.n * self.n\n",
    "                    \n",
    "    def count_stategy(self, target_strategy):\n",
    "        return [strategy for row in self.strategy_matrix() for strategy in row].count(target_strategy)\n",
    "    \n",
    "    def strategy_matrix(self):\n",
    "        return [[player.strategy.type_of_strategy for player in row] for row in self.state]\n",
    "    \n",
    "    def print_strategy_matrix(self):\n",
    "        print(\"\\n\".join([\" \".join([strategy2chr(player.strategy.type_of_strategy) for player in row]) for row in self.state]))\n",
    "        \n",
    "    def print_strategy_matrix_at_instance(self, iteration):\n",
    "        print(\"\\n\".join([\" \".join([strategy2chr(player.strategy.type_of_strategy) for player in row]) for row in self.all_states[iteration - 1]]))\n",
    "\n",
    "    def strategy_matrix_at_instance(self, iteration):\n",
    "        return [[player.strategy.type_of_strategy for player in row] for row in self.all_states[iteration - 1]]        \n",
    "    \n",
    "    def age_matrix(self):\n",
    "        return [[player.age for player in row] for row in self.state]\n",
    "    \n",
    "    def print_age_matrix(self):\n",
    "        print(\"\\n\".join([\" \".join([f'{player.age:2}' for player in row]) for row in self.state]))\n",
    "    \n",
    "    def score_matrix(self):\n",
    "        return [[player.score for player in row] for row in self.state]\n",
    "        \n",
    "    def print_score_matrix(self):\n",
    "        print(\"\\n\".join([\" \".join([f'{player.score:2}' for player in row]) for row in self.state]))\n",
    "        \n",
    "    def __str__(self):\n",
    "        return \"\\n\".join([\"; \".join([str(player) for player in row]) for row in self.state])\n",
    "    \n"
   ]
  },
  {
   "cell_type": "code",
   "execution_count": 114,
   "id": "d885811c",
   "metadata": {},
   "outputs": [
    {
     "name": "stdout",
     "output_type": "stream",
     "text": [
      "Final State:\n",
      "Strategies:\n",
      "D D D D D D D\n",
      "D D D T T T D\n",
      "D D D T T T D\n",
      "D D D D D D D\n",
      "D D T T T D D\n",
      "D D T T T D D\n",
      "D D D D D D D\n",
      "Ages:\n",
      "50 50 50 50 50 50 50\n",
      "50 50 50 50 50 50 50\n",
      "50 50 50 50 50 50 50\n",
      "50 50 50 50 50 50 50\n",
      "50 50 50 50 50 50 50\n",
      "50 50 50 50 50 50 50\n",
      "50 50 50 50 50 50 50\n",
      "Score:\n",
      " 2  2  2  2  2  2  2\n",
      " 2  2  2  2  2  1  2\n",
      " 2  2  2  2  2  3  4\n",
      " 2  2  2  2  4  2  2\n",
      " 2  2  4  4  2  2  2\n",
      " 2  2  2  3  2  2  2\n",
      " 2  4  2  2  2  2  2\n"
     ]
    }
   ],
   "source": [
    "payoff_values = {\n",
    "    \"T\" : 2,\n",
    "    \"R\" : 1,\n",
    "    \"P\" : 0,\n",
    "    \"S\" : -1\n",
    "}\n",
    "\n",
    "initial_state = [\n",
    "    ['D', 'D', 'D', 'D', 'D', 'D', 'D'],\n",
    "    ['D', 'D', 'D', 'T', 'T', 'T', 'D'],\n",
    "    ['D', 'D', 'D', 'T', 'T', 'T', 'D'],\n",
    "    ['D', 'D', 'D', 'D', 'D', 'D', 'D'],\n",
    "    ['D', 'D', 'T', 'T', 'T', 'D', 'D'],\n",
    "    ['D', 'D', 'T', 'T', 'T', 'D', 'D'],\n",
    "    ['D', 'D', 'D', 'D', 'D', 'D', 'D']\n",
    "]\n",
    "\n",
    "game = Game(payoff_values, n=7, initial_state=initial_state, num_of_iterations=50)\n",
    "game.play_game()\n",
    "\n",
    "print(\"Final State:\")\n",
    "print(\"Strategies:\")\n",
    "game.print_strategy_matrix()\n",
    "print(\"Ages:\")\n",
    "game.print_age_matrix()\n",
    "print(\"Score:\")\n",
    "game.print_score_matrix()"
   ]
  },
  {
   "cell_type": "markdown",
   "id": "909aaac9",
   "metadata": {},
   "source": [
    "# Slučajevi bez mutacije"
   ]
  },
  {
   "cell_type": "markdown",
   "id": "a493e350",
   "metadata": {},
   "source": [
    "## Distribucija strategija\n",
    "\n",
    "1. Sve četri strategija\n",
    "2. DEF vs COOP\n",
    "3. DEF vs TFT\n",
    "4. DEF vs ATFT\n",
    "5. COOP vs TFT\n",
    "6. COOP vs ATFT\n",
    "7. TFT vs ATFT"
   ]
  },
  {
   "cell_type": "code",
   "execution_count": 115,
   "id": "82e03c1c",
   "metadata": {},
   "outputs": [],
   "source": [
    "def plot_strategy_ratio(game, num_rows, num_cols, pos, title):\n",
    "    \n",
    "    X = np.linspace(0, game.num_of_iterations, num=game.num_of_iterations)\n",
    "    \n",
    "    coop_count = np.array([count[TypeOfStrategy.Cooperator] / game.num_of_players() for count in game.strategy_counter])\n",
    "    def_count = np.array([count[TypeOfStrategy.Defactor] / game.num_of_players() for count in game.strategy_counter])\n",
    "    tft_count = np.array([count[TypeOfStrategy.Tit_for_tat] / game.num_of_players() for count in game.strategy_counter])\n",
    "    atft_count = np.array([count[TypeOfStrategy.Anti_tit_for_tat] / game.num_of_players() for count in game.strategy_counter])\n",
    "\n",
    "    Y1 = np.ones(game.num_of_iterations)\n",
    "    Y2 = coop_count + def_count + tft_count\n",
    "    Y3 = def_count + tft_count\n",
    "    Y4 = tft_count\n",
    "    Y5 = np.zeros(game.num_of_iterations)\n",
    "    \n",
    "    plt.subplot(num_rows, num_cols, pos)\n",
    "    \n",
    "    plt.plot(X, Y1, color='white')\n",
    "    plt.fill_between(X, Y1, color='yellow', label='ATFT')\n",
    "    plt.plot(X, Y2, color='white')\n",
    "    plt.fill_between(X, Y2, color='blue', label='COOP')\n",
    "    plt.plot(X, Y3, color='white')\n",
    "    plt.fill_between(X, Y3, color='red', label='DEF')\n",
    "    plt.plot(X, Y4, color='white')\n",
    "    plt.fill_between(X, Y4, color='green', label='TFT')\n",
    "    plt.plot(X, Y5, color='white')\n",
    "    \n",
    "    plt.legend(loc='lower left')\n",
    "    plt.title(title)\n",
    "\n",
    "    "
   ]
  },
  {
   "cell_type": "markdown",
   "id": "d4385c32",
   "metadata": {},
   "source": [
    "### Inicijalizacija početnih parametara"
   ]
  },
  {
   "cell_type": "code",
   "execution_count": 116,
   "id": "1fede0e9",
   "metadata": {},
   "outputs": [],
   "source": [
    "payoff_values = {\n",
    "    \"T\" : 2,\n",
    "    \"R\" : 1,\n",
    "    \"P\" : 0,\n",
    "    \"S\" : -1\n",
    "}\n",
    "\n",
    "initial_state_1 =[\n",
    "    ['x' for _ in range(10)]\n",
    "    for _ in range(10)\n",
    "]\n",
    "\n",
    "for i in range(10):\n",
    "    for j in range(10):\n",
    "        prob = random.random()\n",
    "        if prob < 0.25:\n",
    "            initial_state_1[i][j] = 'C'\n",
    "        elif prob < 0.5:\n",
    "            initial_state_1[i][j] = 'D'\n",
    "        elif prob < 0.75:\n",
    "            initial_state_1[i][j] = 'T'\n",
    "        else:\n",
    "            initial_state_1[i][j] = 'A'\n",
    "                \n",
    "initial_state_2 = [\n",
    "    ['D' if random.random() < 0.5 else 'C' for _ in range(10)]\n",
    "    for _ in range(10)\n",
    "]\n",
    "\n",
    "initial_state_3 = [\n",
    "    ['D' if random.random() < 0.5 else 'T' for _ in range(10)]\n",
    "    for _ in range(10)\n",
    "]\n",
    "\n",
    "initial_state_4 = [\n",
    "    ['D' if random.random() < 0.5 else 'A' for _ in range(10)]\n",
    "    for _ in range(10)\n",
    "]\n",
    "\n",
    "initial_state_5 = [\n",
    "    ['C' if random.random() < 0.5 else 'T' for _ in range(10)]\n",
    "    for _ in range(10)\n",
    "]\n",
    "\n",
    "initial_state_6 = [\n",
    "    ['C' if random.random() < 0.5 else 'A' for _ in range(10)]\n",
    "    for _ in range(10)\n",
    "]\n",
    "\n",
    "initial_state_7 = [\n",
    "    ['T' if random.random() < 0.5 else 'A' for _ in range(10)]\n",
    "    for _ in range(10)\n",
    "]"
   ]
  },
  {
   "cell_type": "markdown",
   "id": "61a06262",
   "metadata": {},
   "source": [
    "### Pokretanje igara"
   ]
  },
  {
   "cell_type": "code",
   "execution_count": 117,
   "id": "82653cea",
   "metadata": {},
   "outputs": [],
   "source": [
    "# nismo slali mutation_rate i rate_of_senescence, jer su podrazumevani da ih nema!\n",
    "\n",
    "game_1 = Game(payoff_values, n=10, initial_state=initial_state_1, num_of_iterations=100)\n",
    "game_1.play_game()\n",
    "\n",
    "game_2 = Game(payoff_values, n=10, initial_state=initial_state_2, num_of_iterations=100)\n",
    "game_2.play_game()\n",
    "\n",
    "game_3 = Game(payoff_values, n=10, initial_state=initial_state_3, num_of_iterations=100)\n",
    "game_3.play_game()\n",
    "\n",
    "game_4 = Game(payoff_values, n=10, initial_state=initial_state_4, num_of_iterations=100)\n",
    "game_4.play_game()\n",
    "\n",
    "game_5 = Game(payoff_values, n=10, initial_state=initial_state_5, num_of_iterations=100)\n",
    "game_5.play_game()\n",
    "\n",
    "game_6 = Game(payoff_values, n=10, initial_state=initial_state_6, num_of_iterations=100)\n",
    "game_6.play_game()\n",
    "\n",
    "game_7 = Game(payoff_values, n=10, initial_state=initial_state_7, num_of_iterations=100)\n",
    "game_7.play_game()"
   ]
  },
  {
   "cell_type": "markdown",
   "id": "ad2af304",
   "metadata": {},
   "source": [
    "### Plotovanje distribucija strategija kroz iteracije"
   ]
  },
  {
   "cell_type": "code",
   "execution_count": 118,
   "id": "5ab5a085",
   "metadata": {},
   "outputs": [
    {
     "data": {
      "image/png": "[encoded data removed]",
      "text/plain": [
       "<Figure size 1440x216 with 7 Axes>"
      ]
     },
     "metadata": {
      "needs_background": "light"
     },
     "output_type": "display_data"
    }
   ],
   "source": [
    "fig = plt.figure()\n",
    "fig.set_figwidth(20)\n",
    "fig.set_figheight(3)\n",
    "plot_strategy_ratio(game_1, 1, 7, 1, 'Sve četiri strategije')\n",
    "plot_strategy_ratio(game_2, 1, 7, 2, 'DEF vs COOP')\n",
    "plot_strategy_ratio(game_3, 1, 7, 3, 'DEF vs TFT')\n",
    "plot_strategy_ratio(game_4, 1, 7, 4, 'DEF vs ATFT')\n",
    "plot_strategy_ratio(game_5, 1, 7, 5, 'COOP vs TFT')\n",
    "plot_strategy_ratio(game_6, 1, 7, 6, 'COOP vs ATFT')\n",
    "plot_strategy_ratio(game_7, 1, 7, 7, 'TFT vs ATFT')\n",
    "plt.show()"
   ]
  },
  {
   "cell_type": "code",
   "execution_count": 119,
   "id": "9a9f105f",
   "metadata": {},
   "outputs": [],
   "source": [
    "# u game stavljamo mutation, i on salje player-u\n",
    "# uradimo caseove\n",
    "# svaki player i, j => mozda player ima i broj iteracije?\n",
    "# istrazivanje kako tacno rade fje"
   ]
  },
  {
   "cell_type": "code",
   "execution_count": 145,
   "id": "37150ab5",
   "metadata": {},
   "outputs": [],
   "source": [
    "def plot_strategy_matrix(game, iteration):\n",
    "    strategy_matrix = game.strategy_matrix_at_instance(iteration)\n",
    "    \n",
    "    n = len(strategy_matrix)\n",
    "    \n",
    "    data = np.zeros(shape=(n, n))\n",
    "    \n",
    "    for i in range(n):\n",
    "        for j in range(n):\n",
    "            if strategy_matrix[i][j] == TypeOfStrategy.Cooperator:\n",
    "                data[i][j] = 2\n",
    "            elif strategy_matrix[i][j] == TypeOfStrategy.Defactor:\n",
    "                data[i][j] = 7\n",
    "            elif strategy_matrix[i][j] == TypeOfStrategy.Tit_for_tat:\n",
    "                data[i][j] = 12\n",
    "            elif strategy_matrix[i][j] == TypeOfStrategy.Anti_tit_for_tat:\n",
    "                data[i][j] = 17\n",
    "    \n",
    "    cmap = colors.ListedColormap(['blue', 'red', 'green', 'yellow'])\n",
    "    bounds = [0, 5, 10, 15, 20]\n",
    "    norm = colors.BoundaryNorm(bounds, cmap.N)\n",
    "    \n",
    "    fig, ax = plt.subplots()\n",
    "    \n",
    "    ax.set_title(f'Stanje u iteraciji #{iteration}')\n",
    "    ax.imshow(data, cmap=cmap, norm=norm)\n",
    "    \n",
    "    ax.grid(which='major', axis='both', linestyle='-', color='k', linewidth=2)\n",
    "    ax.set_xticks(np.arange(-0.5, n, 1))\n",
    "    ax.set_yticks(np.arange(-0.5, n, 1))\n",
    "        \n",
    "    ax.axes.xaxis.set_ticklabels([])\n",
    "    ax.axes.yaxis.set_ticklabels([])\n",
    "    \n",
    "    plt.show()"
   ]
  },
  {
   "cell_type": "code",
   "execution_count": null,
   "id": "36982e6d",
   "metadata": {},
   "outputs": [],
   "source": []
  },
  {
   "cell_type": "markdown",
   "id": "bb48bb4e",
   "metadata": {},
   "source": [
    "## Case (1) \n",
    "##### No mutation, no death of old age"
   ]
  },
  {
   "cell_type": "code",
   "execution_count": 137,
   "id": "f730f9e9",
   "metadata": {},
   "outputs": [],
   "source": [
    "initial_state_case_1 = [\n",
    "    ['T', 'T', 'T', 'T', 'T', 'T', 'T'],\n",
    "    ['T', 'T', 'T', 'T', 'T', 'T', 'T'],\n",
    "    ['T', 'T', 'T', 'T', 'T', 'T', 'T'],\n",
    "    ['D', 'D', 'D', 'D', 'T', 'T', 'T'],\n",
    "    ['D', 'D', 'D', 'D', 'D', 'D', 'D'],\n",
    "    ['D', 'D', 'D', 'D', 'D', 'D', 'D'],\n",
    "    ['D', 'D', 'D', 'D', 'D', 'D', 'D'],\n",
    "]\n",
    "\n",
    "game_case_1 = Game(payoff_values, n=7, initial_state=initial_state_case_1, num_of_iterations=25)\n",
    "game_case_1.play_game()"
   ]
  },
  {
   "cell_type": "code",
   "execution_count": 146,
   "id": "9bc9b8c6",
   "metadata": {},
   "outputs": [
    {
     "data": {
      "image/png": "[encoded data removed]",
      "text/plain": [
       "<Figure size 432x288 with 1 Axes>"
      ]
     },
     "metadata": {
      "needs_background": "light"
     },
     "output_type": "display_data"
    }
   ],
   "source": [
    "# ispisuje prvu iteraciju! (iteracije pocinju od 1!)\n",
    "plot_strategy_matrix(game_case_1, 1) "
   ]
  },
  {
   "cell_type": "code",
   "execution_count": 147,
   "id": "01021e69",
   "metadata": {},
   "outputs": [
    {
     "data": {
      "image/png": "[encoded data removed]",
      "text/plain": [
       "<Figure size 432x288 with 1 Axes>"
      ]
     },
     "metadata": {
      "needs_background": "light"
     },
     "output_type": "display_data"
    }
   ],
   "source": [
    "plot_strategy_matrix(game_case_1, 25) "
   ]
  },
  {
   "cell_type": "markdown",
   "id": "be3f555b",
   "metadata": {},
   "source": [
    "#### Imamo zamrznuto stanje => nista se ne menja vremenom"
   ]
  },
  {
   "cell_type": "markdown",
   "id": "aafec7c7",
   "metadata": {},
   "source": [
    "## Case (2) \n",
    "##### No mutation, no death of old age"
   ]
  },
  {
   "cell_type": "code",
   "execution_count": 148,
   "id": "f50716d8",
   "metadata": {},
   "outputs": [],
   "source": [
    "initial_state_case_2 = [\n",
    "    ['D', 'D', 'D', 'D', 'D', 'D', 'D'],\n",
    "    ['D', 'D', 'D', 'T', 'T', 'T', 'D'],\n",
    "    ['D', 'D', 'D', 'T', 'T', 'T', 'D'],\n",
    "    ['D', 'D', 'D', 'D', 'D', 'D', 'D'],\n",
    "    ['D', 'T', 'T', 'T', 'D', 'D', 'D'],\n",
    "    ['D', 'T', 'T', 'T', 'D', 'D', 'D'],\n",
    "    ['D', 'D', 'D', 'D', 'D', 'D', 'D'],\n",
    "]\n",
    "\n",
    "game_case_2 = Game(payoff_values, n=7, initial_state=initial_state_case_2, num_of_iterations=50)\n",
    "game_case_2.play_game()"
   ]
  },
  {
   "cell_type": "code",
   "execution_count": 149,
   "id": "032f83a2",
   "metadata": {},
   "outputs": [
    {
     "data": {
      "image/png": "[encoded data removed]",
      "text/plain": [
       "<Figure size 432x288 with 1 Axes>"
      ]
     },
     "metadata": {
      "needs_background": "light"
     },
     "output_type": "display_data"
    },
    {
     "data": {
      "image/png": "[encoded data removed]",
      "text/plain": [
       "<Figure size 432x288 with 1 Axes>"
      ]
     },
     "metadata": {
      "needs_background": "light"
     },
     "output_type": "display_data"
    },
    {
     "data": {
      "image/png": "[encoded data removed]",
      "text/plain": [
       "<Figure size 432x288 with 1 Axes>"
      ]
     },
     "metadata": {
      "needs_background": "light"
     },
     "output_type": "display_data"
    }
   ],
   "source": [
    "plot_strategy_matrix(game_case_2, 1)\n",
    "plot_strategy_matrix(game_case_2, 15)\n",
    "plot_strategy_matrix(game_case_2, 30)"
   ]
  },
  {
   "cell_type": "code",
   "execution_count": null,
   "id": "3b5eb9c0",
   "metadata": {},
   "outputs": [],
   "source": []
  },
  {
   "cell_type": "markdown",
   "id": "c611523c",
   "metadata": {},
   "source": [
    "## Case (3)\n",
    "\n",
    "#### With mutation, and death of old age"
   ]
  },
  {
   "cell_type": "code",
   "execution_count": 156,
   "id": "5a28c577",
   "metadata": {},
   "outputs": [],
   "source": [
    "initial_state_case_3 =[\n",
    "    ['A', 'A', 'A', 'A', 'A', 'A', 'A'],\n",
    "    ['A', 'A', 'A', 'A', 'A', 'T', 'T'],\n",
    "    ['T', 'T', 'T', 'T', 'T', 'T', 'T'],\n",
    "    ['T', 'T', 'T', 'D', 'D', 'D', 'D'],\n",
    "    ['D', 'D', 'D', 'D', 'D', 'D', 'D'],\n",
    "    ['D', 'C', 'C', 'C', 'C', 'C', 'C'],\n",
    "    ['C', 'C', 'C', 'C', 'C', 'C', 'C'],\n",
    "]\n",
    "\n",
    "# for i in range(7):\n",
    "#     for j in range(7):\n",
    "#         prob = random.random()\n",
    "#         if prob < 0.25:\n",
    "#             initial_state_case_3[i][j] = 'C'\n",
    "#         elif prob < 0.5:\n",
    "#             initial_state_case_3[i][j] = 'D'\n",
    "#         elif prob < 0.75:\n",
    "#             initial_state_case_3[i][j] = 'T'\n",
    "#         else:\n",
    "#             initial_state_case_3[i][j] = 'A'\n",
    "            \n",
    "game_case_3 = Game(payoff_values, n=7, initial_state=None, num_of_iterations=1000, mutation_rate=0.05, rate_of_senescence=20)\n",
    "game_case_3.play_game()"
   ]
  },
  {
   "cell_type": "code",
   "execution_count": 157,
   "id": "c1b77c16",
   "metadata": {
    "scrolled": true
   },
   "outputs": [
    {
     "data": {
      "image/png": "[encoded data removed]",
      "text/plain": [
       "<Figure size 7200x360 with 1 Axes>"
      ]
     },
     "metadata": {
      "needs_background": "light"
     },
     "output_type": "display_data"
    }
   ],
   "source": [
    "fig = plt.figure()\n",
    "fig.set_figwidth(100)\n",
    "fig.set_figheight(5)\n",
    "plot_strategy_ratio(game_case_3, 1, 4, 1, 'Sve četiri strategije')\n",
    "plt.show()"
   ]
  },
  {
   "cell_type": "code",
   "execution_count": 158,
   "id": "f62e6023",
   "metadata": {},
   "outputs": [
    {
     "data": {
      "image/png": "[encoded data removed]",
      "text/plain": [
       "<Figure size 432x288 with 1 Axes>"
      ]
     },
     "metadata": {
      "needs_background": "light"
     },
     "output_type": "display_data"
    }
   ],
   "source": [
    "plot_strategy_matrix(game_case_3, 500)"
   ]
  },
  {
   "cell_type": "code",
   "execution_count": null,
   "id": "02c6e480",
   "metadata": {},
   "outputs": [],
   "source": []
  },
  {
   "cell_type": "code",
   "execution_count": null,
   "id": "88bc998d",
   "metadata": {},
   "outputs": [],
   "source": []
  },
  {
   "cell_type": "code",
   "execution_count": null,
   "id": "eef67fb5",
   "metadata": {},
   "outputs": [],
   "source": []
  }
 ],
 "metadata": {
  "kernelspec": {
   "display_name": "Python 3 (ipykernel)",
   "language": "python",
   "name": "python3"
  },
  "language_info": {
   "codemirror_mode": {
    "name": "ipython",
    "version": 3
   },
   "file_extension": ".py",
   "mimetype": "text/x-python",
   "name": "python",
   "nbconvert_exporter": "python",
   "pygments_lexer": "ipython3",
   "version": "3.10.4"
  }
 },
 "nbformat": 4,
 "nbformat_minor": 5
}
