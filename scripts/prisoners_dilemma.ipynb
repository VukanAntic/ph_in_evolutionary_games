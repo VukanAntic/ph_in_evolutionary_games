{
 "cells": [
  {
   "cell_type": "markdown",
   "id": "885656c9",
   "metadata": {},
   "source": [
    "# Perzistentna homologija i oblici evelutivnih igara"
   ]
  },
  {
   "cell_type": "markdown",
   "id": "6413c05e",
   "metadata": {},
   "source": [
    "Ovaj rad se zasniva na [Persistent homology and the shape of evolutionary games, Jakob Stenseke](https://www.sciencedirect.com/science/article/pii/S0022519321003222)"
   ]
  },
  {
   "cell_type": "markdown",
   "id": "b5535735",
   "metadata": {},
   "source": [
    "Prostorne igre pružaju mnoge uvide u ponašanje i odnose unutar neke populacije. Znog njihove dinamike, prostorni modeli postaju veoma komplikovani za interpretiranje. Kako bi rešili ovog problema možemo koristiti perzistentnu homologiju kao okvir koji može da definiše i računa osobine višeg reda, koje su pri tome invarijantne na odabir parametara, otporne na šum, i nezavisne od ljudskog opažanja. "
   ]
  },
  {
   "cell_type": "markdown",
   "id": "84b4775f",
   "metadata": {},
   "source": [
    "Ovaj rad analizira perzistentnu homologiju igre: zatvorenikova dilema."
   ]
  },
  {
   "cell_type": "markdown",
   "id": "4f5b06ed",
   "metadata": {},
   "source": [
    "# Uvod"
   ]
  },
  {
   "cell_type": "markdown",
   "id": "666a2ea8",
   "metadata": {},
   "source": [
    "**Evolutivna teorija igara** (engl. Evolutionary game theory --- EGT)je primena teorije igara na populaciju koja evoluira. Definiše okvire takmičenja, strategija, i analitike u kojima se takmičenje može modelovati. Evolutivne igre se razlikuju od klasičnih igara jer se fokusiraju na dinamiku promena strategija (reprodukciju) i evolutivno stabilne strategije. To nam omogućava da bolje opišemo kako se strategije menjaju tokom vremena, pod pretpostavkom da se ne koristi savršeni racio (kao što je to slučaj u klasičnoj teoriji igara)."
   ]
  },
  {
   "cell_type": "markdown",
   "id": "a0c6a1fc",
   "metadata": {},
   "source": [
    "Smatra se da prostorni efekti imaju uticaj na evolutivnu dinamiku, te se istražuju mnoge prostorne igre. Kako prostor tako i evolutivna dinamika (u smislu mutacije, reprodukcije, itd.) utiču na stanje igre."
   ]
  },
  {
   "cell_type": "markdown",
   "id": "f4813c48",
   "metadata": {},
   "source": [
    "Pokazuje se da je oblik prostora važan, te se osobine koje obstaju tokom vremena uzimaju kao osobine višeg reda tog prostora. Osobine koje duže obstaju reflektuju stabilnost strategije. Perzistentna homologije pruža metod koji prepoznaje one osobine koji obstaju duže, a da je pritome veoma je otporan na šum."
   ]
  },
  {
   "cell_type": "markdown",
   "id": "64f8c82f",
   "metadata": {},
   "source": [
    "## Perzistentna homologija primenjena na evolutivne igre"
   ]
  },
  {
   "cell_type": "markdown",
   "id": "8c147dc8",
   "metadata": {},
   "source": [
    "Kod prostornih igara pretpostavljamo da će oblici reflektovati stanje igre, tj. da će oblik biti distribucija strategija u prostoru. Kao primer možemo razmatrati dvodimenzione igre na rešetci sa dve strategije $A$ i $B$. Svako polje $10 \\times 10$ rešetke je okupirano nekom strategijom. Analiza trenutnog stanja igre perzistentnom homologijom nam omogućava da automatizujemo intuitivnu analizu tog stanja.\n",
    "\n",
    "TODO: Dodaj sliku!\n",
    "\n",
    "Postupak analize perzistentnom homologijom podrazumeva generisanje $\\mathcal{VR}$, Vietoris-Ripsovog kompleksa, od skupa tačaka $X$ iz rešetke sa željenom strategijom. Tačnije, skup $X$ sadrži sve one tačke $(x, y)$ za koje važi da su okupirane strategijom $S$, tj. važi $S(x, y)$.\n",
    "Primenom perzistentne homologije na $\\mathcal{VR}$ kompleks možemo izvući parove rađanja i smrti neke osobine. Odatle motivacija pravljenja barkodova koji će predstavljati početak (rađanje) i kraj (smrt) neke osobine."
   ]
  },
  {
   "cell_type": "markdown",
   "id": "fb2bc42c",
   "metadata": {},
   "source": [
    "Pored analize dvodimenzionog prostora, od interesa je analizirati i kako se taj dvodimenzioni prostor menja kroz vreme. Iz toga možemo izvući neku dinamiku evelotivne igre, tj. način na koji se strategije smenjuju tokom vremena. U ovom slučaju, dodajemo još jednu koordinatu koja će predstavljati vreme, te će skup tačaka biti oblika $S(x, y, t)$, što žnači da će polje $(x, y)$ biti okupirano strategijom $S$, u trenutku $t$. \n",
    "\n",
    "TODO: Dodaj sliku\n",
    "\n",
    "Dodavanjem vremenske dimenzije javljaju se tri oblika od interesa:\n",
    "\n",
    "1. Struktura u celosti ispunjena jendom strategijom je evolutivno stabilna strategija.\n",
    "2. Struktura sa $m$ jednodimenzionih rupa je evolutivno stabilna strategija sa $m$ stabilnih klastera jedne ili više drugih strategija unutar sebe.\n",
    "3. Struktura sa $m$ dvodimenzionih rupa je evolutivno stabilna strategija sa $m$ nestabilnih klastera jedne ili više drugih strategija unutar sebe."
   ]
  },
  {
   "cell_type": "code",
   "execution_count": 108,
   "id": "6aeacdcf",
   "metadata": {},
   "outputs": [],
   "source": [
    "import enum\n",
    "import random\n",
    "import copy\n",
    "\n",
    "import matplotlib.pyplot as plt\n",
    "from matplotlib import colors\n",
    "\n",
    "import numpy as np\n",
    "\n",
    "import gudhi"
   ]
  },
  {
   "cell_type": "code",
   "execution_count": 71,
   "id": "2bf74ef2",
   "metadata": {},
   "outputs": [],
   "source": [
    "# cooperate => True\n",
    "# defect => False"
   ]
  },
  {
   "cell_type": "markdown",
   "id": "1975fa92",
   "metadata": {},
   "source": [
    "## Zatvorenikova dilema"
   ]
  },
  {
   "cell_type": "markdown",
   "id": "945773f5",
   "metadata": {},
   "source": [
    "Igra koju mi razmatramo je **zatvorenikova dilema** (engl. *prisoner's dilemma*), u kojoj dva igrača u isto vreme igraju jedan od dva poteza:\n",
    "\n",
    "*  Cooperate (Da sarađuje sa drugim igračem) \n",
    "*  Defect (Da ne sarađuje sa drugim igračem) \n",
    "\n",
    "U svakoj iteraciji igraci igraju odredjenu  zavisnosti od toga koju su opciju izabrali, kao i koju je opciju izabrao protivnik, dobiće neki broj bodova. Tako dobijamo matricu bodova u kojoj je svaki element uredjeni par bodova koje dobijaju prvi i drugi igrač, respektivno. Matrica bodova ima sledeći oblik:\n",
    "\n",
    "\n",
    "| * | Cooperate | Defect |\n",
    "| - | --- | --- |\n",
    "| **Cooperate** | (R, R) | (S, T) |\n",
    "| **Defect** | (T, S) | (P, P) |\n",
    "\n",
    "\n",
    "*Npr.* ako igrač 1. stavi Cooperate, a igrač 2. Defect, igrač 1. će dobiti $S$ bodova, a 2. $T$ bodova. Vrednost $R, S, T$ i $P$ se određuju na samom početku partije, i obično će vrednosti za $R$ i $S$ pozivitine (ali izabrane tako da $R < T$), $S$ biti negativne, za $P$ ćemo uzeti $0$."
   ]
  },
  {
   "cell_type": "markdown",
   "id": "76abfb98",
   "metadata": {},
   "source": [
    "Oba igrača dobijaju neku početnu sumu bodova $SS$, i ako njihova suma postane $\\leq 0$, oni su izgubili partiju. Pored toga, postoji i maksimalna suma bodova $MS$, i suma igrača ne sme preći tu vrednost."
   ]
  },
  {
   "cell_type": "markdown",
   "id": "a2edfc12",
   "metadata": {},
   "source": [
    "## Strategije"
   ]
  },
  {
   "cell_type": "markdown",
   "id": "aab2f0b3",
   "metadata": {},
   "source": [
    "Kao rezultat svega ovoga, formiraju se *strategije*, koje će igračima pomoći da budu u prednosti u odnosu na protivnika. Postoji velika količina različitih strategija, ali one koje su korišćene u radu su:\n",
    "    \n",
    "1. Defactor (D) - Uvek radi Defect akciju\n",
    "2. Cooperator (C) - Uvek radi Cooperate akciju\n",
    "3. Tit-for-tat (TFT) - Prvi potez će mu uvek biti Cooperate, ali svaki sledeći će mu biti akcija koju je prethodni protivnik iskoristio\n",
    "4. Anti-tit-for-tat (ATFT) - Prvi potez će mu uvek biti Defect, ali svaki sledeći će mu biti suprotna akcija od one koju je prethodni protivnik iskoristio"
   ]
  },
  {
   "cell_type": "code",
   "execution_count": 72,
   "id": "8cf5970a",
   "metadata": {},
   "outputs": [],
   "source": [
    "class TypeOfStrategy(enum.Enum):\n",
    "    Defactor = 1\n",
    "    Cooperator = 2\n",
    "    Tit_for_tat = 3\n",
    "    Anti_tit_for_tat = 4\n",
    "    \n",
    "def chr2strategy(strategy):\n",
    "    if strategy == 'D':\n",
    "        return TypeOfStrategy.Defactor\n",
    "    if strategy == 'C':\n",
    "        return TypeOfStrategy.Cooperator\n",
    "    if strategy == 'T':\n",
    "        return TypeOfStrategy.Tit_for_tat\n",
    "    if strategy == 'A':\n",
    "        return TypeOfStrategy.Anti_tit_for_tat\n",
    "    return None\n",
    "\n",
    "def strategy2chr(strategy):\n",
    "    if strategy == TypeOfStrategy.Defactor:\n",
    "        return 'D'\n",
    "    if strategy == TypeOfStrategy.Cooperator:\n",
    "        return 'C'\n",
    "    if strategy == TypeOfStrategy.Tit_for_tat:\n",
    "        return 'T'\n",
    "    if strategy == TypeOfStrategy.Anti_tit_for_tat:\n",
    "        return 'A'\n",
    "    return None"
   ]
  },
  {
   "cell_type": "markdown",
   "id": "8e6ff200",
   "metadata": {},
   "source": [
    "Pravimo klasu `Strategy`, koja nam zapravo predstavlja neku od mogućih strategija, i koja ima metod `next_move`, koja će nam dati sledeći potez igrača."
   ]
  },
  {
   "cell_type": "code",
   "execution_count": 73,
   "id": "8a9264af",
   "metadata": {},
   "outputs": [],
   "source": [
    "# strategija bira uz pomoc next_move koju ce vrednost nas igrac dati (tj. da li ce coop ili defect)\n",
    "class Strategy:    \n",
    "    \n",
    "    def __init__(self, type_of_strategy):\n",
    "        self.type_of_strategy = type_of_strategy\n",
    "        self.previous_move = None\n",
    "        \n",
    "    def next_move(self):      \n",
    "        if self.type_of_strategy == TypeOfStrategy.Cooperator:\n",
    "            return True\n",
    "        if self.type_of_strategy == TypeOfStrategy.Defactor:\n",
    "            return False\n",
    "        if self.type_of_strategy == TypeOfStrategy.Tit_for_tat:\n",
    "            if self.previous_move == None:\n",
    "                return True\n",
    "            return self.previous_move\n",
    "        if self.type_of_strategy == TypeOfStrategy.Anti_tit_for_tat:\n",
    "            if self.previous_move == None:\n",
    "                return False\n",
    "            return not self.previous_move \n",
    "        \n",
    "    \n",
    "    def update_previous_move(self, new_move):\n",
    "        self.previous_move = new_move\n",
    "        \n",
    "    def __str__(self):\n",
    "        return f\"Stg({strategy2chr(self.type_of_strategy)})\""
   ]
  },
  {
   "cell_type": "markdown",
   "id": "1295be2a",
   "metadata": {},
   "source": [
    "## Igranje igre"
   ]
  },
  {
   "cell_type": "markdown",
   "id": "88a46999",
   "metadata": {},
   "source": [
    "Po pitanju formiranja igre, imaćemo $n \\times n$ matricu, gde će svaka ćelija predstavljati jednog igrača, sa svojom strategijom i rezultatom. U toku jedne runde, svaki igrač će izabrati jednog od njegovih suseda (u matrici), da odigraju jednu rundu, u kojoj će oba igrača dobiti/izgubiti određenu količinu bodova. Tako će se igra izvršavati, kroz više iteracija, da bismo pratili šta se vremenom dešava (koje su strategije bolje/gore i slično)."
   ]
  },
  {
   "cell_type": "markdown",
   "id": "f5cc50e7",
   "metadata": {},
   "source": [
    "*Primer jedne takve matrice* (u ovom slučaju, crveni predstavljaju igrače koji koriste strategiju Defect, a zeleni TFT):\n",
    "\n",
    "<img src=\"../results/example_1.png\">"
   ]
  },
  {
   "cell_type": "markdown",
   "id": "b8af47d5",
   "metadata": {},
   "source": [
    "## Smrt i mutacija"
   ]
  },
  {
   "cell_type": "markdown",
   "id": "3b43922e",
   "metadata": {},
   "source": [
    "Sad se postavlja pitanje, šta se dešava ako rezultat nekog igrača bude $\\leq 0$ ? Postoje dva slučaja:\n",
    "    \n",
    "1. Klasična smrt\n",
    "2. Mutacija\n",
    "\n",
    "Klasična smrt nastaje kada igrač ima rezultat $\\leq 0$, ili kada nastane smrt od starosti (ubrzo o tome). Pri nastanku smrti, nasumično se bira neki od komšija, od koga će se iskopirati svi njegovi bitni podaci. Naime, imaće istu strategiju kao on, i takođe će kopirati njegov trenutni rezultat.\n",
    "\n",
    "Mutacija podrazumeva da postoji vrlo mala verovatnoća sa kojom igrač neće umreti na \"klasičan način\", već će nasumično izabrati neku strategiju, i postaviti rezultat na početnu sumu bodova $SS$. "
   ]
  },
  {
   "cell_type": "markdown",
   "id": "7c9ce422",
   "metadata": {},
   "source": [
    "Pored toga, postoji i umiranje **od starosti**. U toku igranja igre, posle svake iteracije povećavamo broj godina igrača. Verovatnoća da će igrač umreti od starosti je :\n",
    "    \n",
    "$$\n",
    "\\frac{\\lambda}{\\theta} + 1, \\\\\n",
    "{\\lambda} - \\text{player age} \\\\\n",
    "{\\theta} - \\text{rate of senescence} \\\\\n",
    "$$\n",
    "\n",
    "Ako je $\\theta = 10$ i $\\lambda = 19$, onda postoji $90\\%$ šanse da će umreti. Parametar $\\theta$ služi da bi se sprečilo umiranje velike količine igrača u isto vreme."
   ]
  },
  {
   "cell_type": "markdown",
   "id": "8b950315",
   "metadata": {},
   "source": [
    "Sledeća klasa `Player`, nam zapravo predstavlja igrača, u kojoj se nalaze sve vrednosti koje smo spomiljali, kao što su rezultat, početni rezultat, broj godina, šansa da se dogodi mutacija, i slične. Pored njih, postoji i metoda koja će proveriti da li je igrač umro, i ako jeste, izvršava ili *mutaciju*, ili *klasičnu smrt*."
   ]
  },
  {
   "cell_type": "markdown",
   "id": "f1c99842",
   "metadata": {},
   "source": [
    "Podrazumevane vrednosti za parametra `mutation_probability` je nula, jer u nekim slučajevima želimo da vidimo kako će se igra odvijati, ako ne postoji mutacija. Slično je `rate_of_senescence` beskonačno, tj. razmatramo igru kada ne postoji umiranje od starosti."
   ]
  },
  {
   "cell_type": "code",
   "execution_count": 74,
   "id": "0c7a5a93",
   "metadata": {},
   "outputs": [],
   "source": [
    "class Player:\n",
    "    # vrednosti kao rate_of_senescence i max_score su uvek iste, pa neka budu staticke\n",
    "    rate_of_senescence = float('inf')\n",
    "    maximum_score = 4\n",
    "    starting_score = 2\n",
    "    \n",
    "    mutation_probability = 0.0\n",
    "    starting_age = 0\n",
    "    \n",
    "    def __init__(self, type_of_strategy, i, j):\n",
    "        self.strategy = Strategy(type_of_strategy)\n",
    "        self.age = Player.starting_age\n",
    "        self.score = Player.starting_score\n",
    "        self.i = i\n",
    "        self.j = j\n",
    "     \n",
    "    def check_death(self):\n",
    "        chance_death_old_age = (self.age / Player.rate_of_senescence) - 1 \n",
    "        if random.random() < chance_death_old_age or self.score <= 0:\n",
    "            return True\n",
    "        return False\n",
    "    \n",
    "    def reborn(self, neighbours):\n",
    "        # moguci ishodi:\n",
    "        # 1) kopira sve od random suseda\n",
    "        # 2) mutacija => mala verovatnoca, uzima skroz random strategiju, i pocinje ispocetka\n",
    "        if random.random() < Player.mutation_probability:\n",
    "            self.mutation()\n",
    "        else:\n",
    "            selected_neighbour = random.choice(neighbours)\n",
    "            self.strategy = Strategy(selected_neighbour.strategy.type_of_strategy)\n",
    "            self.score = selected_neighbour.score\n",
    "        self.age = 0\n",
    "            \n",
    "    def mutation(self):\n",
    "        self.strategy = Strategy(TypeOfStrategy(random.randint(1, len(TypeOfStrategy))))\n",
    "        self.age = Player.starting_age        \n",
    "        self.score = Player.starting_score\n",
    "        \n",
    "    def __str__(self):\n",
    "        return f\"Ply({self.strategy}, Age({self.age}), Scr({self.score}))\"\n"
   ]
  },
  {
   "cell_type": "code",
   "execution_count": 75,
   "id": "d1c456a2",
   "metadata": {},
   "outputs": [],
   "source": [
    "payoff_values = {\n",
    "    \"T\" : 2,\n",
    "    \"R\" : 1,\n",
    "    \"P\" : 0,\n",
    "    \"S\" : -1\n",
    "}"
   ]
  },
  {
   "cell_type": "markdown",
   "id": "8aa641a9",
   "metadata": {},
   "source": [
    "Klasa `Game` će predstavljati odigravanje onoliko rundi koliko je dato kao parametar. Unutar nje, postoji atribut `state` koje predstavlja trenutno stanje igre, kao i niz `all_states` koji čuva sva prethodna stanja, te je pristup nekoj nekoj iteraciji jednostavan (npr. prethodna slika je pokazala stanje igre u prvoj iteraciji). Pored toga, `Game` je odgovoran za interakcije između neka 2 igrača, kao i ažuriranje svojih parametara."
   ]
  },
  {
   "cell_type": "code",
   "execution_count": 76,
   "id": "1b76e8eb",
   "metadata": {},
   "outputs": [],
   "source": [
    "class Game:\n",
    "    Cooperate = True\n",
    "    Defect = False\n",
    "    \n",
    "    def __init__(self, payoff_values, n=10, initial_state=None, num_of_iterations=10, mutation_rate=0.0, rate_of_senescence=float('inf')):\n",
    "        self.payoff_matrix = self.__set_payoff_matrix(payoff_values)\n",
    "        self.n = n if initial_state is None else len(initial_state)\n",
    "        self.state = self.__process_initial_state(n, initial_state)\n",
    "        self.all_states = []\n",
    "        self.num_of_iterations = num_of_iterations\n",
    "        self.strategy_counter = []\n",
    "        # svaki put kad kreiramo igru, postavljamo staticku vrednost mut_rate za trenutni game (podrazumevano 0)\n",
    "        Player.mutation_probability = mutation_rate\n",
    "        Player.rate_of_senescence = rate_of_senescence\n",
    "     \n",
    "    def __set_payoff_matrix(self, payoff_values):\n",
    "        return {\n",
    "            (Game.Cooperate, Game.Cooperate) : (payoff_values[\"R\"], payoff_values[\"R\"]),\n",
    "            (Game.Cooperate, Game.Defect) : (payoff_values[\"S\"], payoff_values[\"T\"]),\n",
    "            (Game.Defect, Game.Cooperate) : (payoff_values[\"T\"], payoff_values[\"S\"]),\n",
    "            (Game.Defect, Game.Defect) : (payoff_values[\"P\"], payoff_values[\"P\"])\n",
    "        }\n",
    "    \n",
    "    def __process_initial_state(self, n, initial_state):\n",
    "        state = []\n",
    "        \n",
    "        if initial_state is not None:\n",
    "            state = [[Player(chr2strategy(strategy), i, j) for j, strategy in enumerate(row)] for i, row in enumerate(initial_state)]\n",
    "        else:\n",
    "            state = [[Player(TypeOfStrategy(random.randint(1, 4)), i, j) for j in range(n)] for i in range(n)]\n",
    "        \n",
    "        return state\n",
    "    \n",
    "    def __neighbours(self, i, j):\n",
    "        neighbours = []\n",
    "        if i > 0 and j > 0:\n",
    "            neighbours.append(self.state[i-1][j-1])\n",
    "        if i > 0:\n",
    "            neighbours.append(self.state[i-1][j])\n",
    "        if i > 0 and j < self.n - 1:\n",
    "            neighbours.append(self.state[i-1][j+1])\n",
    "        if j > 0:\n",
    "            neighbours.append(self.state[i][j-1])\n",
    "        if j < self.n - 1:\n",
    "            neighbours.append(self.state[i][j+1])\n",
    "        if i < self.n - 1 and j > 0:\n",
    "            neighbours.append(self.state[i+1][j-1])\n",
    "        if i < self.n - 1:\n",
    "            neighbours.append(self.state[i+1][j])\n",
    "        if i < self.n - 1 and j < self.n - 1:\n",
    "            neighbours.append(self.state[i+1][j+1])\n",
    "        return neighbours\n",
    "    \n",
    "    def __select_neighbour_index(self, i, j):\n",
    "        indices = []\n",
    "        if i > 0 and j > 0:\n",
    "            indices.append((i-1, j-1))\n",
    "        if i > 0:\n",
    "            indices.append((i-1, j))\n",
    "        if i > 0 and j < self.n - 1:\n",
    "            indices.append((i-1, j+1))\n",
    "        if j > 0:\n",
    "            indices.append((i, j-1))\n",
    "        if j < self.n - 1:\n",
    "            indices.append((i, j+1))\n",
    "        if i < self.n - 1 and j > 0:\n",
    "            indices.append((i+1, j-1))\n",
    "        if i < self.n - 1:\n",
    "            indices.append((i+1, j))\n",
    "        if i < self.n - 1 and j < self.n - 1:\n",
    "            indices.append((i+1, j+1))\n",
    "            \n",
    "        index = random.randint(0, len(indices) - 1)\n",
    "        \n",
    "        return indices[index]\n",
    "    \n",
    "    def __players_interations(self, player1, player2, neighbours1, neighbours2):\n",
    "        p1_move = player1.strategy.next_move()\n",
    "        p2_move = player2.strategy.next_move() \n",
    "        player1.strategy.previous_move = p2_move\n",
    "        player2.strategy.previous_move = p1_move \n",
    "        #print(f'Moves: {p1_move}, {p2_move}')\n",
    "        p1_payoff_value, p2_payoff_value = self.payoff_matrix[(p1_move, p2_move)]\n",
    "    \n",
    "        #print(f'Payoff: {p1_payoff_value}, {p2_payoff_value}')\n",
    "        player1.score = min(Player.maximum_score,  player1.score + p1_payoff_value)\n",
    "        player2.score = min(Player.maximum_score,  player2.score + p2_payoff_value)\n",
    "    \n",
    "        if player1.check_death():\n",
    "            player1.reborn(neighbours1)\n",
    "        if player2.check_death():\n",
    "            player2.reborn(neighbours2)\n",
    "    \n",
    "    def play_game(self):\n",
    "        \n",
    "        for iteration in range(self.num_of_iterations):\n",
    "            self.all_states.append(copy.deepcopy(self.state))\n",
    "            \n",
    "            self.strategy_counter.append(\n",
    "                {\n",
    "                    TypeOfStrategy.Cooperator: self.count_stategy(TypeOfStrategy.Cooperator), \n",
    "                    TypeOfStrategy.Defactor: self.count_stategy(TypeOfStrategy.Defactor),\n",
    "                    TypeOfStrategy.Tit_for_tat: self.count_stategy(TypeOfStrategy.Tit_for_tat),\n",
    "                    TypeOfStrategy.Anti_tit_for_tat: self.count_stategy(TypeOfStrategy.Anti_tit_for_tat)\n",
    "                }\n",
    "            )\n",
    "                                                      \n",
    "            # Update game\n",
    "            for i in range(self.n):\n",
    "                for j in range(self.n):\n",
    "                    #print(f'Player: {i}, {j}')\n",
    "                    player1 = self.state[i][j]\n",
    "                    neighbours1 = self.__neighbours(i, j)\n",
    "                    \n",
    "                    (neighbour_i, neighbour_j) = self.__select_neighbour_index(i, j)\n",
    "                    player2 = self.state[neighbour_i][neighbour_j]\n",
    "                    neighbours2 = self.__neighbours(neighbour_i, neighbour_j)\n",
    "                    \n",
    "                    self.__players_interations(player1, player2, neighbours1, neighbours2)\n",
    "                    player1.age += 1\n",
    "                    \n",
    "        return \n",
    "    \n",
    "    def num_of_players(self):\n",
    "        return self.n * self.n\n",
    "                    \n",
    "    def count_stategy(self, target_strategy):\n",
    "        return [strategy for row in self.strategy_matrix() for strategy in row].count(target_strategy)\n",
    "    \n",
    "    def strategy_matrix(self):\n",
    "        return [[player.strategy.type_of_strategy for player in row] for row in self.state]\n",
    "    \n",
    "    def print_strategy_matrix(self):\n",
    "        print(\"\\n\".join([\" \".join([strategy2chr(player.strategy.type_of_strategy) for player in row]) for row in self.state]))\n",
    "        \n",
    "    def print_strategy_matrix_at_instance(self, iteration):\n",
    "        print(\"\\n\".join([\" \".join([strategy2chr(player.strategy.type_of_strategy) for player in row]) for row in self.all_states[iteration - 1]]))\n",
    "\n",
    "    def strategy_matrix_at_instance(self, iteration):\n",
    "        return [[player.strategy.type_of_strategy for player in row] for row in self.all_states[iteration - 1]]        \n",
    "    \n",
    "    def age_matrix(self):\n",
    "        return [[player.age for player in row] for row in self.state]\n",
    "    \n",
    "    def print_age_matrix(self):\n",
    "        print(\"\\n\".join([\" \".join([f'{player.age:2}' for player in row]) for row in self.state]))\n",
    "    \n",
    "    def score_matrix(self):\n",
    "        return [[player.score for player in row] for row in self.state]\n",
    "        \n",
    "    def print_score_matrix(self):\n",
    "        print(\"\\n\".join([\" \".join([f'{player.score:2}' for player in row]) for row in self.state]))\n",
    "        \n",
    "    def __str__(self):\n",
    "        return \"\\n\".join([\"; \".join([str(player) for player in row]) for row in self.state])\n",
    "    \n"
   ]
  },
  {
   "cell_type": "markdown",
   "id": "909aaac9",
   "metadata": {},
   "source": [
    "Funkcija koja služi da nam iscrta na grafu koliko od ukupne matrice koja strategija poseduje tokom vremena:"
   ]
  },
  {
   "cell_type": "code",
   "execution_count": 77,
   "id": "82e03c1c",
   "metadata": {},
   "outputs": [],
   "source": [
    "def plot_strategy_ratio(game, num_rows, num_cols, pos, title):\n",
    "    \n",
    "    X = np.linspace(0, game.num_of_iterations, num=game.num_of_iterations)\n",
    "    \n",
    "    coop_count = np.array([count[TypeOfStrategy.Cooperator] / game.num_of_players() for count in game.strategy_counter])\n",
    "    def_count = np.array([count[TypeOfStrategy.Defactor] / game.num_of_players() for count in game.strategy_counter])\n",
    "    tft_count = np.array([count[TypeOfStrategy.Tit_for_tat] / game.num_of_players() for count in game.strategy_counter])\n",
    "    atft_count = np.array([count[TypeOfStrategy.Anti_tit_for_tat] / game.num_of_players() for count in game.strategy_counter])\n",
    "\n",
    "    Y1 = np.ones(game.num_of_iterations)\n",
    "    Y2 = coop_count + def_count + tft_count\n",
    "    Y3 = def_count + tft_count\n",
    "    Y4 = tft_count\n",
    "    Y5 = np.zeros(game.num_of_iterations)\n",
    "    \n",
    "    plt.subplot(num_rows, num_cols, pos)\n",
    "    \n",
    "    plt.plot(X, Y1, color='white')\n",
    "    plt.fill_between(X, Y1, color='yellow', label='ATFT')\n",
    "    plt.plot(X, Y2, color='white')\n",
    "    plt.fill_between(X, Y2, color='blue', label='COOP')\n",
    "    plt.plot(X, Y3, color='white')\n",
    "    plt.fill_between(X, Y3, color='red', label='DEF')\n",
    "    plt.plot(X, Y4, color='white')\n",
    "    plt.fill_between(X, Y4, color='green', label='TFT')\n",
    "    plt.plot(X, Y5, color='white')\n",
    "    \n",
    "    plt.legend(loc='lower left')\n",
    "    plt.title(title)    "
   ]
  },
  {
   "cell_type": "markdown",
   "id": "353ee46b",
   "metadata": {},
   "source": [
    "Funkcija za vizualizaciju jednog stanja igre za datu igru i broj iteracije."
   ]
  },
  {
   "cell_type": "code",
   "execution_count": 78,
   "id": "37150ab5",
   "metadata": {},
   "outputs": [],
   "source": [
    "def plot_strategy_matrix(game, iteration):\n",
    "    strategy_matrix = game.strategy_matrix_at_instance(iteration)\n",
    "    \n",
    "    n = len(strategy_matrix)\n",
    "    \n",
    "    data = np.zeros(shape=(n, n))\n",
    "    \n",
    "    for i in range(n):\n",
    "        for j in range(n):\n",
    "            if strategy_matrix[i][j] == TypeOfStrategy.Cooperator:\n",
    "                data[i][j] = 2\n",
    "            elif strategy_matrix[i][j] == TypeOfStrategy.Defactor:\n",
    "                data[i][j] = 7\n",
    "            elif strategy_matrix[i][j] == TypeOfStrategy.Tit_for_tat:\n",
    "                data[i][j] = 12\n",
    "            elif strategy_matrix[i][j] == TypeOfStrategy.Anti_tit_for_tat:\n",
    "                data[i][j] = 17\n",
    "    \n",
    "    cmap = colors.ListedColormap(['blue', 'red', 'green', 'yellow'])\n",
    "    bounds = [0, 5, 10, 15, 20]\n",
    "    norm = colors.BoundaryNorm(bounds, cmap.N)\n",
    "    \n",
    "    fig, ax = plt.subplots()\n",
    "    \n",
    "    ax.set_title(f'Stanje u iteraciji {iteration}')\n",
    "    ax.imshow(data, cmap=cmap, norm=norm)\n",
    "    \n",
    "    ax.grid(which='major', axis='both', linestyle='-', color='k', linewidth=2)\n",
    "    ax.set_xticks(np.arange(-0.5, n, 1))\n",
    "    ax.set_yticks(np.arange(-0.5, n, 1))\n",
    "        \n",
    "    ax.axes.xaxis.set_ticklabels([])\n",
    "    ax.axes.yaxis.set_ticklabels([])\n",
    "    \n",
    "    plt.show()"
   ]
  },
  {
   "cell_type": "markdown",
   "id": "cd916029",
   "metadata": {},
   "source": [
    "## Primer jedne igre"
   ]
  },
  {
   "cell_type": "code",
   "execution_count": 79,
   "id": "d885811c",
   "metadata": {},
   "outputs": [
    {
     "data": {
      "image/png": "[encoded data removed]",
      "text/plain": [
       "<Figure size 432x288 with 1 Axes>"
      ]
     },
     "metadata": {
      "needs_background": "light"
     },
     "output_type": "display_data"
    },
    {
     "data": {
      "image/png": "[encoded data removed]",
      "text/plain": [
       "<Figure size 432x288 with 1 Axes>"
      ]
     },
     "metadata": {
      "needs_background": "light"
     },
     "output_type": "display_data"
    },
    {
     "data": {
      "image/png": "[encoded data removed]",
      "text/plain": [
       "<Figure size 432x288 with 1 Axes>"
      ]
     },
     "metadata": {
      "needs_background": "light"
     },
     "output_type": "display_data"
    },
    {
     "data": {
      "image/png": "[encoded data removed]",
      "text/plain": [
       "<Figure size 432x288 with 1 Axes>"
      ]
     },
     "metadata": {
      "needs_background": "light"
     },
     "output_type": "display_data"
    },
    {
     "data": {
      "image/png": "[encoded data removed]",
      "text/plain": [
       "<Figure size 432x288 with 1 Axes>"
      ]
     },
     "metadata": {
      "needs_background": "light"
     },
     "output_type": "display_data"
    },
    {
     "data": {
      "image/png": "[encoded data removed]",
      "text/plain": [
       "<Figure size 432x288 with 1 Axes>"
      ]
     },
     "metadata": {
      "needs_background": "light"
     },
     "output_type": "display_data"
    },
    {
     "data": {
      "image/png": "[encoded data removed]",
      "text/plain": [
       "<Figure size 432x288 with 1 Axes>"
      ]
     },
     "metadata": {
      "needs_background": "light"
     },
     "output_type": "display_data"
    },
    {
     "data": {
      "image/png": "[encoded data removed]",
      "text/plain": [
       "<Figure size 432x288 with 1 Axes>"
      ]
     },
     "metadata": {
      "needs_background": "light"
     },
     "output_type": "display_data"
    },
    {
     "data": {
      "image/png": "[encoded data removed]",
      "text/plain": [
       "<Figure size 432x288 with 1 Axes>"
      ]
     },
     "metadata": {
      "needs_background": "light"
     },
     "output_type": "display_data"
    },
    {
     "data": {
      "image/png": "[encoded data removed]",
      "text/plain": [
       "<Figure size 432x288 with 1 Axes>"
      ]
     },
     "metadata": {
      "needs_background": "light"
     },
     "output_type": "display_data"
    },
    {
     "data": {
      "image/png": "[encoded data removed]",
      "text/plain": [
       "<Figure size 432x288 with 1 Axes>"
      ]
     },
     "metadata": {
      "needs_background": "light"
     },
     "output_type": "display_data"
    },
    {
     "data": {
      "image/png": "[encoded data removed]",
      "text/plain": [
       "<Figure size 432x288 with 1 Axes>"
      ]
     },
     "metadata": {
      "needs_background": "light"
     },
     "output_type": "display_data"
    },
    {
     "data": {
      "image/png": "[encoded data removed]",
      "text/plain": [
       "<Figure size 432x288 with 1 Axes>"
      ]
     },
     "metadata": {
      "needs_background": "light"
     },
     "output_type": "display_data"
    },
    {
     "data": {
      "image/png": "[encoded data removed]",
      "text/plain": [
       "<Figure size 432x288 with 1 Axes>"
      ]
     },
     "metadata": {
      "needs_background": "light"
     },
     "output_type": "display_data"
    },
    {
     "data": {
      "image/png": "[encoded data removed]",
      "text/plain": [
       "<Figure size 432x288 with 1 Axes>"
      ]
     },
     "metadata": {
      "needs_background": "light"
     },
     "output_type": "display_data"
    },
    {
     "data": {
      "image/png": "[encoded data removed]",
      "text/plain": [
       "<Figure size 432x288 with 1 Axes>"
      ]
     },
     "metadata": {
      "needs_background": "light"
     },
     "output_type": "display_data"
    },
    {
     "data": {
      "image/png": "[encoded data removed]",
      "text/plain": [
       "<Figure size 432x288 with 1 Axes>"
      ]
     },
     "metadata": {
      "needs_background": "light"
     },
     "output_type": "display_data"
    },
    {
     "data": {
      "image/png": "[encoded data removed]",
      "text/plain": [
       "<Figure size 432x288 with 1 Axes>"
      ]
     },
     "metadata": {
      "needs_background": "light"
     },
     "output_type": "display_data"
    },
    {
     "data": {
      "image/png": "[encoded data removed]",
      "text/plain": [
       "<Figure size 432x288 with 1 Axes>"
      ]
     },
     "metadata": {
      "needs_background": "light"
     },
     "output_type": "display_data"
    },
    {
     "data": {
      "image/png": "[encoded data removed]",
      "text/plain": [
       "<Figure size 432x288 with 1 Axes>"
      ]
     },
     "metadata": {
      "needs_background": "light"
     },
     "output_type": "display_data"
    },
    {
     "data": {
      "image/png": "[encoded data removed]",
      "text/plain": [
       "<Figure size 432x288 with 1 Axes>"
      ]
     },
     "metadata": {
      "needs_background": "light"
     },
     "output_type": "display_data"
    },
    {
     "data": {
      "image/png": "[encoded data removed]",
      "text/plain": [
       "<Figure size 432x288 with 1 Axes>"
      ]
     },
     "metadata": {
      "needs_background": "light"
     },
     "output_type": "display_data"
    },
    {
     "data": {
      "image/png": "[encoded data removed]",
      "text/plain": [
       "<Figure size 432x288 with 1 Axes>"
      ]
     },
     "metadata": {
      "needs_background": "light"
     },
     "output_type": "display_data"
    },
    {
     "data": {
      "image/png": "[encoded data removed]",
      "text/plain": [
       "<Figure size 432x288 with 1 Axes>"
      ]
     },
     "metadata": {
      "needs_background": "light"
     },
     "output_type": "display_data"
    },
    {
     "data": {
      "image/png": "[encoded data removed]",
      "text/plain": [
       "<Figure size 432x288 with 1 Axes>"
      ]
     },
     "metadata": {
      "needs_background": "light"
     },
     "output_type": "display_data"
    },
    {
     "data": {
      "image/png": "[encoded data removed]",
      "text/plain": [
       "<Figure size 432x288 with 1 Axes>"
      ]
     },
     "metadata": {
      "needs_background": "light"
     },
     "output_type": "display_data"
    },
    {
     "data": {
      "image/png": "[encoded data removed]",
      "text/plain": [
       "<Figure size 432x288 with 1 Axes>"
      ]
     },
     "metadata": {
      "needs_background": "light"
     },
     "output_type": "display_data"
    },
    {
     "data": {
      "image/png": "[encoded data removed]",
      "text/plain": [
       "<Figure size 432x288 with 1 Axes>"
      ]
     },
     "metadata": {
      "needs_background": "light"
     },
     "output_type": "display_data"
    },
    {
     "data": {
      "image/png": "[encoded data removed]",
      "text/plain": [
       "<Figure size 432x288 with 1 Axes>"
      ]
     },
     "metadata": {
      "needs_background": "light"
     },
     "output_type": "display_data"
    },
    {
     "data": {
      "image/png": "[encoded data removed]",
      "text/plain": [
       "<Figure size 432x288 with 1 Axes>"
      ]
     },
     "metadata": {
      "needs_background": "light"
     },
     "output_type": "display_data"
    },
    {
     "data": {
      "image/png": "[encoded data removed]",
      "text/plain": [
       "<Figure size 432x288 with 1 Axes>"
      ]
     },
     "metadata": {
      "needs_background": "light"
     },
     "output_type": "display_data"
    },
    {
     "data": {
      "image/png": "[encoded data removed]",
      "text/plain": [
       "<Figure size 432x288 with 1 Axes>"
      ]
     },
     "metadata": {
      "needs_background": "light"
     },
     "output_type": "display_data"
    },
    {
     "data": {
      "image/png": "[encoded data removed]",
      "text/plain": [
       "<Figure size 432x288 with 1 Axes>"
      ]
     },
     "metadata": {
      "needs_background": "light"
     },
     "output_type": "display_data"
    },
    {
     "data": {
      "image/png": "[encoded data removed]",
      "text/plain": [
       "<Figure size 432x288 with 1 Axes>"
      ]
     },
     "metadata": {
      "needs_background": "light"
     },
     "output_type": "display_data"
    },
    {
     "data": {
      "image/png": "[encoded data removed]",
      "text/plain": [
       "<Figure size 432x288 with 1 Axes>"
      ]
     },
     "metadata": {
      "needs_background": "light"
     },
     "output_type": "display_data"
    },
    {
     "data": {
      "image/png": "[encoded data removed]",
      "text/plain": [
       "<Figure size 432x288 with 1 Axes>"
      ]
     },
     "metadata": {
      "needs_background": "light"
     },
     "output_type": "display_data"
    },
    {
     "data": {
      "image/png": "[encoded data removed]",
      "text/plain": [
       "<Figure size 432x288 with 1 Axes>"
      ]
     },
     "metadata": {
      "needs_background": "light"
     },
     "output_type": "display_data"
    },
    {
     "data": {
      "image/png": "[encoded data removed]",
      "text/plain": [
       "<Figure size 432x288 with 1 Axes>"
      ]
     },
     "metadata": {
      "needs_background": "light"
     },
     "output_type": "display_data"
    },
    {
     "data": {
      "image/png": "[encoded data removed]",
      "text/plain": [
       "<Figure size 432x288 with 1 Axes>"
      ]
     },
     "metadata": {
      "needs_background": "light"
     },
     "output_type": "display_data"
    },
    {
     "data": {
      "image/png": "[encoded data removed]",
      "text/plain": [
       "<Figure size 432x288 with 1 Axes>"
      ]
     },
     "metadata": {
      "needs_background": "light"
     },
     "output_type": "display_data"
    },
    {
     "data": {
      "image/png": "[encoded data removed]",
      "text/plain": [
       "<Figure size 432x288 with 1 Axes>"
      ]
     },
     "metadata": {
      "needs_background": "light"
     },
     "output_type": "display_data"
    },
    {
     "data": {
      "image/png": "[encoded data removed]",
      "text/plain": [
       "<Figure size 432x288 with 1 Axes>"
      ]
     },
     "metadata": {
      "needs_background": "light"
     },
     "output_type": "display_data"
    },
    {
     "data": {
      "image/png": "[encoded data removed]",
      "text/plain": [
       "<Figure size 432x288 with 1 Axes>"
      ]
     },
     "metadata": {
      "needs_background": "light"
     },
     "output_type": "display_data"
    },
    {
     "data": {
      "image/png": "[encoded data removed]",
      "text/plain": [
       "<Figure size 432x288 with 1 Axes>"
      ]
     },
     "metadata": {
      "needs_background": "light"
     },
     "output_type": "display_data"
    },
    {
     "data": {
      "image/png": "[encoded data removed]",
      "text/plain": [
       "<Figure size 432x288 with 1 Axes>"
      ]
     },
     "metadata": {
      "needs_background": "light"
     },
     "output_type": "display_data"
    },
    {
     "data": {
      "image/png": "[encoded data removed]",
      "text/plain": [
       "<Figure size 432x288 with 1 Axes>"
      ]
     },
     "metadata": {
      "needs_background": "light"
     },
     "output_type": "display_data"
    },
    {
     "data": {
      "image/png": "[encoded data removed]",
      "text/plain": [
       "<Figure size 432x288 with 1 Axes>"
      ]
     },
     "metadata": {
      "needs_background": "light"
     },
     "output_type": "display_data"
    },
    {
     "data": {
      "image/png": "[encoded data removed]",
      "text/plain": [
       "<Figure size 432x288 with 1 Axes>"
      ]
     },
     "metadata": {
      "needs_background": "light"
     },
     "output_type": "display_data"
    },
    {
     "data": {
      "image/png": "[encoded data removed]",
      "text/plain": [
       "<Figure size 432x288 with 1 Axes>"
      ]
     },
     "metadata": {
      "needs_background": "light"
     },
     "output_type": "display_data"
    },
    {
     "data": {
      "image/png": "[encoded data removed]",
      "text/plain": [
       "<Figure size 432x288 with 1 Axes>"
      ]
     },
     "metadata": {
      "needs_background": "light"
     },
     "output_type": "display_data"
    }
   ],
   "source": [
    "payoff_values = {\n",
    "    \"T\" : 2,\n",
    "    \"R\" : 1,\n",
    "    \"P\" : 0,\n",
    "    \"S\" : -1\n",
    "}\n",
    "\n",
    "initial_state = [\n",
    "    ['D', 'D', 'D', 'D', 'D', 'D', 'D'],\n",
    "    ['D', 'D', 'D', 'T', 'T', 'T', 'D'],\n",
    "    ['D', 'D', 'D', 'T', 'T', 'T', 'D'],\n",
    "    ['D', 'D', 'D', 'D', 'D', 'D', 'D'],\n",
    "    ['D', 'D', 'T', 'T', 'T', 'D', 'D'],\n",
    "    ['D', 'D', 'T', 'T', 'T', 'D', 'D'],\n",
    "    ['D', 'D', 'D', 'D', 'D', 'D', 'D']\n",
    "]\n",
    "\n",
    "num_of_iterations = 50\n",
    "\n",
    "game = Game(payoff_values, n=7, initial_state=initial_state, num_of_iterations=num_of_iterations, mutation_rate=0.1, rate_of_senescence=40)\n",
    "game.play_game()\n",
    "\n",
    "for i in range(num_of_iterations):    \n",
    "    plot_strategy_matrix(game, i + 1)"
   ]
  },
  {
   "cell_type": "code",
   "execution_count": 80,
   "id": "b735c7e9",
   "metadata": {},
   "outputs": [
    {
     "data": {
      "image/png": "[encoded data removed]",
      "text/plain": [
       "<Figure size 432x288 with 1 Axes>"
      ]
     },
     "metadata": {
      "needs_background": "light"
     },
     "output_type": "display_data"
    }
   ],
   "source": [
    "plot_strategy_ratio(game, 1, 1, 1, 'Distribucija strategija kroz iteracije')"
   ]
  },
  {
   "cell_type": "markdown",
   "id": "38ee1853",
   "metadata": {},
   "source": [
    "## Slučajevi bez mutacije"
   ]
  },
  {
   "cell_type": "markdown",
   "id": "03f40ce8",
   "metadata": {},
   "source": [
    "Prvo gledamo kako će naše igre proći ako ne postoji mutacija, i ne postoji umiranje od starosti. Slučajeve koje želimo da posmatramo:\n",
    "\n",
    "1. Sve četri strategija\n",
    "2. DEF vs COOP\n",
    "3. DEF vs TFT\n",
    "4. DEF vs ATFT\n",
    "5. COOP vs TFT\n",
    "6. COOP vs ATFT\n",
    "7. TFT vs ATFT\n",
    "    \n",
    "Pri čemu, svaka od strategija će donekle zauzeti istu količinu polja, da bi bilo fer."
   ]
  },
  {
   "cell_type": "markdown",
   "id": "d4385c32",
   "metadata": {},
   "source": [
    "**Inicijalizacija početnih parametara**, ovde dajemo vrednosti za T, R, P i S, tj. koliko će igrač dobiti poena na kraju partije."
   ]
  },
  {
   "cell_type": "code",
   "execution_count": 81,
   "id": "1fede0e9",
   "metadata": {},
   "outputs": [],
   "source": [
    "odavdeodavdepayoff_values = {\n",
    "    \"T\" : 2,\n",
    "    \"R\" : 1,\n",
    "    \"P\" : 0,\n",
    "    \"S\" : -1\n",
    "}\n",
    "\n",
    "initial_state_1 = [\n",
    "    ['x' for _ in range(10)]\n",
    "    for _ in range(10)\n",
    "]\n",
    "\n",
    "for i in range(10):\n",
    "    for j in range(10):\n",
    "        prob = random.random()\n",
    "        if prob < 0.25:\n",
    "            initial_state_1[i][j] = 'C'\n",
    "        elif prob < 0.5:\n",
    "            initial_state_1[i][j] = 'D'\n",
    "        elif prob < 0.75:\n",
    "            initial_state_1[i][j] = 'T'\n",
    "        else:\n",
    "            initial_state_1[i][j] = 'A'\n",
    "                \n",
    "initial_state_2 = [\n",
    "    ['D' if random.random() < 0.5 else 'C' for _ in range(10)]\n",
    "    for _ in range(10)\n",
    "]\n",
    "\n",
    "initial_state_3 = [\n",
    "    ['D' if random.random() < 0.5 else 'T' for _ in range(10)]\n",
    "    for _ in range(10)\n",
    "]\n",
    "\n",
    "initial_state_4 = [\n",
    "    ['D' if random.random() < 0.5 else 'A' for _ in range(10)]\n",
    "    for _ in range(10)\n",
    "]\n",
    "\n",
    "initial_state_5 = [\n",
    "    ['C' if random.random() < 0.5 else 'T' for _ in range(10)]\n",
    "    for _ in range(10)\n",
    "]\n",
    "\n",
    "initial_state_6 = [\n",
    "    ['C' if random.random() < 0.5 else 'A' for _ in range(10)]\n",
    "    for _ in range(10)\n",
    "]\n",
    "\n",
    "initial_state_7 = [\n",
    "    ['T' if random.random() < 0.5 else 'A' for _ in range(10)]\n",
    "    for _ in range(10)\n",
    "]"
   ]
  },
  {
   "cell_type": "markdown",
   "id": "61a06262",
   "metadata": {},
   "source": [
    "**Pokretanje igara**"
   ]
  },
  {
   "cell_type": "code",
   "execution_count": 82,
   "id": "82653cea",
   "metadata": {},
   "outputs": [],
   "source": [
    "# nismo slali mutation_rate i rate_of_senescence, jer su podrazumevani da ih nema!\n",
    "\n",
    "game_1 = Game(payoff_values, n=10, initial_state=initial_state_1, num_of_iterations=100)\n",
    "game_1.play_game()\n",
    "\n",
    "game_2 = Game(payoff_values, n=10, initial_state=initial_state_2, num_of_iterations=100)\n",
    "game_2.play_game()\n",
    "\n",
    "game_3 = Game(payoff_values, n=10, initial_state=initial_state_3, num_of_iterations=100)\n",
    "game_3.play_game()\n",
    "\n",
    "game_4 = Game(payoff_values, n=10, initial_state=initial_state_4, num_of_iterations=100)\n",
    "game_4.play_game()\n",
    "\n",
    "game_5 = Game(payoff_values, n=10, initial_state=initial_state_5, num_of_iterations=100)\n",
    "game_5.play_game()\n",
    "\n",
    "game_6 = Game(payoff_values, n=10, initial_state=initial_state_6, num_of_iterations=100)\n",
    "game_6.play_game()\n",
    "\n",
    "game_7 = Game(payoff_values, n=10, initial_state=initial_state_7, num_of_iterations=100)\n",
    "game_7.play_game()"
   ]
  },
  {
   "cell_type": "markdown",
   "id": "ad2af304",
   "metadata": {},
   "source": [
    "**Plotovanje distribucija strategija kroz iteracije**"
   ]
  },
  {
   "cell_type": "code",
   "execution_count": 83,
   "id": "5ab5a085",
   "metadata": {},
   "outputs": [
    {
     "data": {
      "image/png": "[encoded data removed]",
      "text/plain": [
       "<Figure size 1440x216 with 7 Axes>"
      ]
     },
     "metadata": {
      "needs_background": "light"
     },
     "output_type": "display_data"
    }
   ],
   "source": [
    "fig = plt.figure()\n",
    "fig.set_figwidth(20)\n",
    "fig.set_figheight(3)\n",
    "plot_strategy_ratio(game_1, 1, 7, 1, 'Sve četiri strategije')\n",
    "plot_strategy_ratio(game_2, 1, 7, 2, 'DEF vs COOP')\n",
    "plot_strategy_ratio(game_3, 1, 7, 3, 'DEF vs TFT')\n",
    "plot_strategy_ratio(game_4, 1, 7, 4, 'DEF vs ATFT')\n",
    "plot_strategy_ratio(game_5, 1, 7, 5, 'COOP vs TFT')\n",
    "plot_strategy_ratio(game_6, 1, 7, 6, 'COOP vs ATFT')\n",
    "plot_strategy_ratio(game_7, 1, 7, 7, 'TFT vs ATFT')\n",
    "plt.show()"
   ]
  },
  {
   "cell_type": "markdown",
   "id": "3eaa2aa4",
   "metadata": {},
   "source": [
    "Rezultate svakih od igara sa različitim strategijama možemo videti gore.\n",
    "    \n",
    "1. U ovoj igri, imali smo sve četiri strategije, i kao što možemo da vidimo, ATFT i COOP nestaju sa relativno malim brojem iteracija od DEF-a (što ima i smisla, jer će DEF zlopotrebiti COOP, a i ATFT će izgubiti od DEF, zato što će na njegove Defect, ATFT odgovarati sa Cooperate). Jednom kada DEF i ATFT nestanu stanje igre postaje stabilno.\n",
    "2. Ovde tačno možemo da vidimo okolnosti opisane u 1. slučaju. COOP izgubi od DEF zbog gore navedenog razloga.\n",
    "3. DEF vs TFT predstavlja jednu interesantnu situacije u kojoj imamo jedno stabilno stanje bez obzira na početnu konfiguraciju. Naime, jedina dinamika stanja je moguća u prvoj iteraciji, u kojoj se TFT ponaša isto kao i COOP.\n",
    "4. Opet, ovo smo mogli da vidimo u slučaju 1., DEF je zloupotrebio to što ATFT uvek baca suprotno od njega, i osvojio je celu mapu vrlo brzo.\n",
    "5. Trenutna okolnost je možda najbolji slučaj u kome COOP može da se nađe. Naime, TFT će da kažemo, \"ponavljati ono što protivnik kaže\", samim tim, se TFT-ovi ponašaju kao COOP, i sve je stabilno.\n",
    "6. COOP će vrlo brzo gubiti protiv ATFT-a, jer se ATFT u ovoj okolnosti ponaša kao DEF.\n",
    "7. U ovom slučaju ATFT gubi od FTF-a, kako će TFT naučiti kako protivnik igra dok će ATFT igrati suprotno od njega. Slično rezonovanje se može primeniti da je dobijeno da TFT gubi od ATFA-a. Ovaj slučaj je veoma interesantan, kako je moguće da popedi ili TFT ili ATFT, a to je potpuno neodređeno zbog stohastičnosti."
   ]
  },
  {
   "cell_type": "markdown",
   "id": "56fec782",
   "metadata": {},
   "source": [
    "Funkcije koje primenjuje prezistentnu homologiju i kao rezultat iscrtava barkodove."
   ]
  },
  {
   "cell_type": "code",
   "execution_count": 115,
   "id": "eb9b59ef",
   "metadata": {},
   "outputs": [],
   "source": [
    "def barcode_generator(game_strategy_matrix, wanted_strategy):\n",
    "    point_cloud = []\n",
    "    n = len(game_strategy_matrix)\n",
    "    for i in range(n):\n",
    "        for j in range(n):\n",
    "            if game_strategy_matrix[i][j] == wanted_strategy:\n",
    "                point_cloud.append([i + 1, j + 1])\n",
    "   \n",
    "    rips_complex = gudhi.RipsComplex(points=point_cloud, max_edge_length=n * n)\n",
    "    simplex_tree  = rips_complex.create_simplex_tree(max_dimension=2)\n",
    "    diag = simplex_tree.persistence()\n",
    "    \n",
    "    gudhi.plot_persistence_barcode(diag)\n",
    "    plt.show()    \n",
    "    \n",
    "def barcode_generator_over(game, start_iter, end_iter, wanted_strategy):\n",
    "    point_cloud = []\n",
    "    \n",
    "    n = len(game.strategy_matrix_at_instance(1))\n",
    "    for iteration in range(start_iter, end_iter + 1):\n",
    "        game_strategy_matrix = game.strategy_matrix_at_instance(iteration)\n",
    "        for i in range(n):\n",
    "            for j in range(n):\n",
    "                if game_strategy_matrix[i][j] == wanted_strategy:\n",
    "                    point_cloud.append([i, j, iteration - start_iter + 1])\n",
    "\n",
    "    max_edge_length=max(n, end_iter - start_iter)\n",
    "    rips_complex = gudhi.RipsComplex(points=point_cloud, max_edge_length=max_edge_length, sparse=0.9)\n",
    "    simplex_tree  = rips_complex.create_simplex_tree(max_dimension=3)\n",
    "    diag = simplex_tree.persistence()\n",
    "\n",
    "    filtered_diag = list(filter(lambda x: x[0] == 2, diag))\n",
    "    \n",
    "    if filtered_diag != []:\n",
    "      gudhi.plot_persistence_barcode(filtered_diag)\n",
    "      plt.show()\n",
    "\n",
    "      gudhi.plot_persistence_diagram(filtered_diag)\n",
    "      plt.show() \n",
    "    else:\n",
    "      gudhi.plot_persistence_barcode(diag)\n",
    "      plt.show()\n",
    "\n",
    "      gudhi.plot_persistence_diagram(diag)\n",
    "      plt.show() \n",
    "\n",
    "    result_str = 'Rips complex is of dimension ' + repr(simplex_tree.dimension()) + ' - ' + \\\n",
    "    repr(simplex_tree.num_simplices()) + ' simplices - ' + \\\n",
    "    repr(simplex_tree.num_vertices()) + ' vertices.'\n",
    "    print(result_str)"
   ]
  },
  {
   "cell_type": "markdown",
   "id": "bb48bb4e",
   "metadata": {},
   "source": [
    "## Case (1) \n",
    "\n",
    "##### Bez mutacije i umiranja od starenja\n",
    "\n",
    "U ovim slučaju imamo zamrznutno stanje."
   ]
  },
  {
   "cell_type": "code",
   "execution_count": 111,
   "id": "f730f9e9",
   "metadata": {},
   "outputs": [],
   "source": [
    "initial_state_case_1 = [\n",
    "    ['T', 'T', 'T', 'T', 'T', 'T', 'T'],\n",
    "    ['T', 'T', 'T', 'T', 'T', 'T', 'T'],\n",
    "    ['T', 'T', 'T', 'T', 'T', 'T', 'T'],\n",
    "    ['D', 'D', 'D', 'D', 'T', 'T', 'T'],\n",
    "    ['D', 'D', 'D', 'D', 'D', 'D', 'D'],\n",
    "    ['D', 'D', 'D', 'D', 'D', 'D', 'D'],\n",
    "    ['D', 'D', 'D', 'D', 'D', 'D', 'D'],\n",
    "]\n",
    "\n",
    "game_case_1 = Game(payoff_values, n=7, initial_state=initial_state_case_1, num_of_iterations=25)\n",
    "game_case_1.play_game()"
   ]
  },
  {
   "cell_type": "code",
   "execution_count": 87,
   "id": "9bc9b8c6",
   "metadata": {},
   "outputs": [
    {
     "data": {
      "image/png": "[encoded data removed]",
      "text/plain": [
       "<Figure size 432x288 with 1 Axes>"
      ]
     },
     "metadata": {
      "needs_background": "light"
     },
     "output_type": "display_data"
    }
   ],
   "source": [
    "# ispisuje prvu iteraciju! (iteracije pocinju od 1!)\n",
    "plot_strategy_matrix(game_case_1, 1) "
   ]
  },
  {
   "cell_type": "code",
   "execution_count": 88,
   "id": "4f8fc7a9",
   "metadata": {},
   "outputs": [
    {
     "data": {
      "image/png": "[encoded data removed]",
      "text/plain": [
       "<Figure size 432x288 with 1 Axes>"
      ]
     },
     "metadata": {
      "needs_background": "light"
     },
     "output_type": "display_data"
    }
   ],
   "source": [
    "barcode_generator(game_case_1.strategy_matrix_at_instance(1), TypeOfStrategy.Defactor)"
   ]
  },
  {
   "cell_type": "code",
   "execution_count": 89,
   "id": "01021e69",
   "metadata": {},
   "outputs": [
    {
     "data": {
      "image/png": "[encoded data removed]",
      "text/plain": [
       "<Figure size 432x288 with 1 Axes>"
      ]
     },
     "metadata": {
      "needs_background": "light"
     },
     "output_type": "display_data"
    }
   ],
   "source": [
    "plot_strategy_matrix(game_case_1, 25) "
   ]
  },
  {
   "cell_type": "markdown",
   "id": "aafec7c7",
   "metadata": {},
   "source": [
    "## Case (2) \n",
    "\n",
    "##### Bez mutacije i umiranja od starenja\n",
    "\n",
    "U ovom slučaju stanje je dinamično do nekog trenutka nakon čega postaje postaje zamrznuto."
   ]
  },
  {
   "cell_type": "code",
   "execution_count": 90,
   "id": "f50716d8",
   "metadata": {},
   "outputs": [],
   "source": [
    "random.seed(42)\n",
    "\n",
    "initial_state_case_2 = [\n",
    "    [ 'D', 'D', 'D', 'D', 'D', 'D', 'D'],\n",
    "    [ 'D', 'D', 'D', 'C', 'C', 'C', 'D'],\n",
    "    [ 'D', 'D', 'D', 'C', 'C', 'C', 'D'],\n",
    "    [ 'D', 'D', 'D', 'D', 'D', 'D', 'D'],\n",
    "    [ 'D', 'C', 'C', 'C', 'D', 'D', 'D'],\n",
    "    [ 'D', 'C', 'C', 'C', 'D', 'D', 'D'],\n",
    "    [ 'D', 'D', 'D', 'D', 'D', 'D', 'D'],\n",
    "]\n",
    "\n",
    "game_case_2 = Game(payoff_values, n=7, initial_state=initial_state_case_2, num_of_iterations=1000)\n",
    "game_case_2.play_game()"
   ]
  },
  {
   "cell_type": "code",
   "execution_count": 91,
   "id": "032f83a2",
   "metadata": {},
   "outputs": [
    {
     "data": {
      "image/png": "[encoded data removed]",
      "text/plain": [
       "<Figure size 432x288 with 1 Axes>"
      ]
     },
     "metadata": {
      "needs_background": "light"
     },
     "output_type": "display_data"
    },
    {
     "data": {
      "image/png": "[encoded data removed]",
      "text/plain": [
       "<Figure size 432x288 with 1 Axes>"
      ]
     },
     "metadata": {
      "needs_background": "light"
     },
     "output_type": "display_data"
    },
    {
     "data": {
      "image/png": "[encoded data removed]",
      "text/plain": [
       "<Figure size 432x288 with 1 Axes>"
      ]
     },
     "metadata": {
      "needs_background": "light"
     },
     "output_type": "display_data"
    },
    {
     "data": {
      "image/png": "[encoded data removed]",
      "text/plain": [
       "<Figure size 432x288 with 1 Axes>"
      ]
     },
     "metadata": {
      "needs_background": "light"
     },
     "output_type": "display_data"
    },
    {
     "data": {
      "image/png": "[encoded data removed]",
      "text/plain": [
       "<Figure size 432x288 with 1 Axes>"
      ]
     },
     "metadata": {
      "needs_background": "light"
     },
     "output_type": "display_data"
    },
    {
     "data": {
      "image/png": "[encoded data removed]",
      "text/plain": [
       "<Figure size 432x288 with 1 Axes>"
      ]
     },
     "metadata": {
      "needs_background": "light"
     },
     "output_type": "display_data"
    },
    {
     "data": {
      "image/png": "[encoded data removed]",
      "text/plain": [
       "<Figure size 432x288 with 1 Axes>"
      ]
     },
     "metadata": {
      "needs_background": "light"
     },
     "output_type": "display_data"
    },
    {
     "data": {
      "image/png": "[encoded data removed]",
      "text/plain": [
       "<Figure size 432x288 with 1 Axes>"
      ]
     },
     "metadata": {
      "needs_background": "light"
     },
     "output_type": "display_data"
    },
    {
     "data": {
      "image/png": "[encoded data removed]",
      "text/plain": [
       "<Figure size 432x288 with 1 Axes>"
      ]
     },
     "metadata": {
      "needs_background": "light"
     },
     "output_type": "display_data"
    },
    {
     "data": {
      "image/png": "[encoded data removed]",
      "text/plain": [
       "<Figure size 432x288 with 1 Axes>"
      ]
     },
     "metadata": {
      "needs_background": "light"
     },
     "output_type": "display_data"
    }
   ],
   "source": [
    "for i in range(10):\n",
    "    plot_strategy_matrix(game_case_2, i + 1)"
   ]
  },
  {
   "cell_type": "code",
   "execution_count": 92,
   "id": "85aedb11",
   "metadata": {},
   "outputs": [
    {
     "data": {
      "image/png": "[encoded data removed]",
      "text/plain": [
       "<Figure size 432x288 with 1 Axes>"
      ]
     },
     "metadata": {
      "needs_background": "light"
     },
     "output_type": "display_data"
    }
   ],
   "source": [
    "barcode_generator(game_case_2.strategy_matrix_at_instance(8), TypeOfStrategy.Defactor)"
   ]
  },
  {
   "cell_type": "markdown",
   "id": "a23327a7",
   "metadata": {},
   "source": [
    "## Igra sa mutacijom, i umiranjem zbog starenja"
   ]
  },
  {
   "cell_type": "code",
   "execution_count": 112,
   "id": "5a28c577",
   "metadata": {},
   "outputs": [],
   "source": [
    "random.seed(42)\n",
    "\n",
    "initial_state_case_3 =[\n",
    "    ['A', 'A', 'A', 'A', 'A', 'A', 'A'],\n",
    "    ['A', 'A', 'A', 'A', 'A', 'T', 'T'],\n",
    "    ['T', 'T', 'T', 'T', 'T', 'T', 'T'],\n",
    "    ['T', 'T', 'T', 'D', 'D', 'D', 'D'],\n",
    "    ['D', 'D', 'D', 'D', 'D', 'D', 'D'],\n",
    "    ['D', 'C', 'C', 'C', 'C', 'C', 'C'],\n",
    "    ['C', 'C', 'C', 'C', 'C', 'C', 'C'],\n",
    "]\n",
    "\n",
    "# for i in range(7):\n",
    "#    for j in range(7):\n",
    "#        prob = random.random()\n",
    "#        if prob < 0.25:\n",
    "#            initial_state_case_3[i][j] = 'C'\n",
    "#        elif prob < 0.5:\n",
    "#            initial_state_case_3[i][j] = 'D'\n",
    "#        elif prob < 0.75:\n",
    "#            initial_state_case_3[i][j] = 'T'\n",
    "#        else:\n",
    "#            initial_state_case_3[i][j] = 'A'\n",
    "            \n",
    "game_case_3 = Game(payoff_values, n=7, initial_state=None, num_of_iterations=1000, mutation_rate=0.05, rate_of_senescence=20)\n",
    "game_case_3.play_game()"
   ]
  },
  {
   "cell_type": "code",
   "execution_count": 113,
   "id": "c1b77c16",
   "metadata": {
    "scrolled": true
   },
   "outputs": [
    {
     "data": {
      "image/png": "[encoded data removed]",
      "text/plain": [
       "<Figure size 7200x360 with 1 Axes>"
      ]
     },
     "metadata": {
      "needs_background": "light"
     },
     "output_type": "display_data"
    }
   ],
   "source": [
    "fig = plt.figure()\n",
    "fig.set_figwidth(100)\n",
    "fig.set_figheight(5)\n",
    "plot_strategy_ratio(game_case_3, 1, 4, 1, 'Sve četiri strategije')\n",
    "plt.show()"
   ]
  },
  {
   "cell_type": "markdown",
   "id": "83392307",
   "metadata": {},
   "source": [
    "# Case (4)\n",
    "\n",
    "##### Sa mutacijom, i umiranjem zbog starenja"
   ]
  },
  {
   "cell_type": "code",
   "execution_count": 122,
   "id": "f62e6023",
   "metadata": {},
   "outputs": [
    {
     "data": {
      "image/png": "[encoded data removed]",
      "text/plain": [
       "<Figure size 432x288 with 1 Axes>"
      ]
     },
     "metadata": {
      "needs_background": "light"
     },
     "output_type": "display_data"
    },
    {
     "data": {
      "image/png": "[encoded data removed]",
      "text/plain": [
       "<Figure size 432x288 with 1 Axes>"
      ]
     },
     "metadata": {
      "needs_background": "light"
     },
     "output_type": "display_data"
    },
    {
     "name": "stdout",
     "output_type": "stream",
     "text": [
      "Rips complex is of dimension 3 - 1129871 simplices - 378 vertices.\n"
     ]
    },
    {
     "data": {
      "image/png": "[encoded data removed]",
      "text/plain": [
       "<Figure size 432x288 with 1 Axes>"
      ]
     },
     "metadata": {
      "needs_background": "light"
     },
     "output_type": "display_data"
    },
    {
     "data": {
      "image/png": "[encoded data removed]",
      "text/plain": [
       "<Figure size 432x288 with 1 Axes>"
      ]
     },
     "metadata": {
      "needs_background": "light"
     },
     "output_type": "display_data"
    },
    {
     "data": {
      "image/png": "[encoded data removed]",
      "text/plain": [
       "<Figure size 432x288 with 1 Axes>"
      ]
     },
     "metadata": {
      "needs_background": "light"
     },
     "output_type": "display_data"
    },
    {
     "data": {
      "image/png": "[encoded data removed]",
      "text/plain": [
       "<Figure size 432x288 with 1 Axes>"
      ]
     },
     "metadata": {
      "needs_background": "light"
     },
     "output_type": "display_data"
    },
    {
     "data": {
      "image/png": "[encoded data removed]",
      "text/plain": [
       "<Figure size 432x288 with 1 Axes>"
      ]
     },
     "metadata": {
      "needs_background": "light"
     },
     "output_type": "display_data"
    },
    {
     "data": {
      "image/png": "[encoded data removed]",
      "text/plain": [
       "<Figure size 432x288 with 1 Axes>"
      ]
     },
     "metadata": {
      "needs_background": "light"
     },
     "output_type": "display_data"
    },
    {
     "data": {
      "image/png": "[encoded data removed]",
      "text/plain": [
       "<Figure size 432x288 with 1 Axes>"
      ]
     },
     "metadata": {
      "needs_background": "light"
     },
     "output_type": "display_data"
    }
   ],
   "source": [
    "barcode_generator_over(game_case_3, 963, 970, TypeOfStrategy.Defactor)\n",
    "for i in range(963, 970):\n",
    "    plot_strategy_matrix(game_case_3, i)"
   ]
  },
  {
   "cell_type": "markdown",
   "id": "539a0b0b",
   "metadata": {},
   "source": [
    "## Case (3 + 5)"
   ]
  },
  {
   "cell_type": "code",
   "execution_count": 56,
   "id": "02c6e480",
   "metadata": {},
   "outputs": [
    {
     "data": {
      "image/png": "[encoded data removed]",
      "text/plain": [
       "<Figure size 432x288 with 1 Axes>"
      ]
     },
     "metadata": {
      "needs_background": "light"
     },
     "output_type": "display_data"
    },
    {
     "data": {
      "image/png": "[encoded data removed]",
      "text/plain": [
       "<Figure size 432x288 with 1 Axes>"
      ]
     },
     "metadata": {
      "needs_background": "light"
     },
     "output_type": "display_data"
    },
    {
     "data": {
      "image/png": "[encoded data removed]",
      "text/plain": [
       "<Figure size 432x288 with 1 Axes>"
      ]
     },
     "metadata": {
      "needs_background": "light"
     },
     "output_type": "display_data"
    },
    {
     "data": {
      "image/png": "[encoded data removed]",
      "text/plain": [
       "<Figure size 432x288 with 1 Axes>"
      ]
     },
     "metadata": {
      "needs_background": "light"
     },
     "output_type": "display_data"
    },
    {
     "data": {
      "image/png": "[encoded data removed]",
      "text/plain": [
       "<Figure size 432x288 with 1 Axes>"
      ]
     },
     "metadata": {
      "needs_background": "light"
     },
     "output_type": "display_data"
    },
    {
     "data": {
      "image/png": "[encoded data removed]",
      "text/plain": [
       "<Figure size 432x288 with 1 Axes>"
      ]
     },
     "metadata": {
      "needs_background": "light"
     },
     "output_type": "display_data"
    },
    {
     "data": {
      "image/png": "[encoded data removed]",
      "text/plain": [
       "<Figure size 432x288 with 1 Axes>"
      ]
     },
     "metadata": {
      "needs_background": "light"
     },
     "output_type": "display_data"
    },
    {
     "data": {
      "image/png": "[encoded data removed]",
      "text/plain": [
       "<Figure size 432x288 with 1 Axes>"
      ]
     },
     "metadata": {
      "needs_background": "light"
     },
     "output_type": "display_data"
    },
    {
     "data": {
      "image/png": "[encoded data removed]",
      "text/plain": [
       "<Figure size 432x288 with 1 Axes>"
      ]
     },
     "metadata": {
      "needs_background": "light"
     },
     "output_type": "display_data"
    },
    {
     "data": {
      "image/png": "[encoded data removed]",
      "text/plain": [
       "<Figure size 432x288 with 1 Axes>"
      ]
     },
     "metadata": {
      "needs_background": "light"
     },
     "output_type": "display_data"
    },
    {
     "data": {
      "image/png": "[encoded data removed]",
      "text/plain": [
       "<Figure size 432x288 with 1 Axes>"
      ]
     },
     "metadata": {
      "needs_background": "light"
     },
     "output_type": "display_data"
    },
    {
     "data": {
      "image/png": "[encoded data removed]",
      "text/plain": [
       "<Figure size 432x288 with 1 Axes>"
      ]
     },
     "metadata": {
      "needs_background": "light"
     },
     "output_type": "display_data"
    },
    {
     "data": {
      "image/png": "[encoded data removed]",
      "text/plain": [
       "<Figure size 432x288 with 1 Axes>"
      ]
     },
     "metadata": {
      "needs_background": "light"
     },
     "output_type": "display_data"
    },
    {
     "data": {
      "image/png": "[encoded data removed]",
      "text/plain": [
       "<Figure size 432x288 with 1 Axes>"
      ]
     },
     "metadata": {
      "needs_background": "light"
     },
     "output_type": "display_data"
    },
    {
     "data": {
      "image/png": "[encoded data removed]",
      "text/plain": [
       "<Figure size 432x288 with 1 Axes>"
      ]
     },
     "metadata": {
      "needs_background": "light"
     },
     "output_type": "display_data"
    },
    {
     "data": {
      "image/png": "[encoded data removed]",
      "text/plain": [
       "<Figure size 432x288 with 1 Axes>"
      ]
     },
     "metadata": {
      "needs_background": "light"
     },
     "output_type": "display_data"
    },
    {
     "data": {
      "image/png": "[encoded data removed]",
      "text/plain": [
       "<Figure size 432x288 with 1 Axes>"
      ]
     },
     "metadata": {
      "needs_background": "light"
     },
     "output_type": "display_data"
    },
    {
     "data": {
      "image/png": "[encoded data removed]",
      "text/plain": [
       "<Figure size 432x288 with 1 Axes>"
      ]
     },
     "metadata": {
      "needs_background": "light"
     },
     "output_type": "display_data"
    },
    {
     "data": {
      "image/png": "[encoded data removed]",
      "text/plain": [
       "<Figure size 432x288 with 1 Axes>"
      ]
     },
     "metadata": {
      "needs_background": "light"
     },
     "output_type": "display_data"
    },
    {
     "data": {
      "image/png": "[encoded data removed]",
      "text/plain": [
       "<Figure size 432x288 with 1 Axes>"
      ]
     },
     "metadata": {
      "needs_background": "light"
     },
     "output_type": "display_data"
    },
    {
     "data": {
      "image/png": "[encoded data removed]",
      "text/plain": [
       "<Figure size 432x288 with 1 Axes>"
      ]
     },
     "metadata": {
      "needs_background": "light"
     },
     "output_type": "display_data"
    },
    {
     "data": {
      "image/png": "[encoded data removed]",
      "text/plain": [
       "<Figure size 432x288 with 1 Axes>"
      ]
     },
     "metadata": {
      "needs_background": "light"
     },
     "output_type": "display_data"
    },
    {
     "data": {
      "image/png": "[encoded data removed]",
      "text/plain": [
       "<Figure size 432x288 with 1 Axes>"
      ]
     },
     "metadata": {
      "needs_background": "light"
     },
     "output_type": "display_data"
    },
    {
     "data": {
      "image/png": "[encoded data removed]",
      "text/plain": [
       "<Figure size 432x288 with 1 Axes>"
      ]
     },
     "metadata": {
      "needs_background": "light"
     },
     "output_type": "display_data"
    },
    {
     "data": {
      "image/png": "[encoded data removed]",
      "text/plain": [
       "<Figure size 432x288 with 1 Axes>"
      ]
     },
     "metadata": {
      "needs_background": "light"
     },
     "output_type": "display_data"
    }
   ],
   "source": [
    "for i in range(667, 692):\n",
    "    plot_strategy_matrix(game_case_3, i)"
   ]
  },
  {
   "cell_type": "markdown",
   "id": "fb5d55fd",
   "metadata": {},
   "source": [
    "# Zakljucak i diskusija"
   ]
  },
  {
   "cell_type": "markdown",
   "id": "43fc6be0",
   "metadata": {},
   "source": [
    "Perzistentna homologija nam omogućava istraživanje prostornih igara na potpuno novi način. Naime, perzistentna homologija pruža rigorozne matematičke okvire za istraživanje prostora, koji su pri tome otporni na šum. U nekim slučajevima perzistentna homologija može se koristiti za definisanje nekih osobina, dok sa druge strane može da prepoznaje unapred definisana osobina nekog prostora, gde je prostor predstavljen 2D rešetkom. Takođe, videli smo da je, uz male poteškoće pri računanju, moguće posmatrati neki interval stanja 2D rešetke i analizirati promene koje nastaju kroz vreme."
   ]
  },
  {
   "cell_type": "markdown",
   "id": "c6b151cf",
   "metadata": {},
   "source": [
    "U ovom radu je analizirana samo igra zatvorenikova dilema, gde dva igrača mogu imati jednu od četiri strategija COOP, DEF, TFT, ATFT. "
   ]
  },
  {
   "cell_type": "code",
   "execution_count": null,
   "id": "22299fbe",
   "metadata": {},
   "outputs": [],
   "source": []
  }
 ],
 "metadata": {
  "kernelspec": {
   "display_name": "Python 3 (ipykernel)",
   "language": "python",
   "name": "python3"
  },
  "language_info": {
   "codemirror_mode": {
    "name": "ipython",
    "version": 3
   },
   "file_extension": ".py",
   "mimetype": "text/x-python",
   "name": "python",
   "nbconvert_exporter": "python",
   "pygments_lexer": "ipython3",
   "version": "3.10.2"
  }
 },
 "nbformat": 4,
 "nbformat_minor": 5
}
