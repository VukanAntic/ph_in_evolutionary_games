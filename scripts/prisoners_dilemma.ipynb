{
 "cells": [
  {
   "cell_type": "code",
   "execution_count": 74,
   "id": "6aeacdcf",
   "metadata": {},
   "outputs": [],
   "source": [
    "import enum"
   ]
  },
  {
   "cell_type": "code",
   "execution_count": 75,
   "id": "2bf74ef2",
   "metadata": {},
   "outputs": [],
   "source": [
    "# cooperate => True\n",
    "# defect => False"
   ]
  },
  {
   "cell_type": "code",
   "execution_count": 96,
   "id": "8cf5970a",
   "metadata": {},
   "outputs": [],
   "source": [
    "class TypeOfStrategy(enum.Enum):\n",
    "    Defactor = 1\n",
    "    Cooperator = 2\n",
    "    Tit_for_tat = 3\n",
    "    Anti_tit_for_tat = 4"
   ]
  },
  {
   "cell_type": "code",
   "execution_count": 93,
   "id": "8a9264af",
   "metadata": {},
   "outputs": [],
   "source": [
    "# strategija bira uz pomoc next_move koju ce vrednost nas igrac dati (tj. da li ce coop ili defect)\n",
    "class Strategy:    \n",
    "    \n",
    "    def __init__(self, type_of_strategy):\n",
    "        self.type_of_strategy = type_of_strategy\n",
    "        self.previous_move = None\n",
    "        \n",
    "    def next_move(self, previous_enemy_move):        \n",
    "        if previous_enemy_move == None:\n",
    "            if self.type_of_strategy == TypeOfStrategy.Cooperator or self.type_of_strategy == TypeOfStrategy.Cooperator:\n",
    "                self.previous_move = True\n",
    "                return True\n",
    "            else:\n",
    "                self.previous_move = False\n",
    "                return False\n",
    "        else:\n",
    "            if self.type_of_strategy == TypeOfStrategy.Cooperator:\n",
    "                self.previous_move = True\n",
    "                return True\n",
    "            if self.type_of_strategy == TypeOfStrategy.Defactor:\n",
    "                self.previous_move = False\n",
    "                return False\n",
    "            if self.type_of_strategy == TypeOfStrategy.Tit_for_tat:\n",
    "                self.previous_move = previous_enemy_move\n",
    "                return previous_enemy_move\n",
    "            if self.type_of_strategy == TypeOfStrategy.Anti_tit_for_tat:\n",
    "                self.previous_move = not previous_enemy_move\n",
    "                return not previous_enemy_move"
   ]
  },
  {
   "cell_type": "code",
   "execution_count": 94,
   "id": "be0e2ce6",
   "metadata": {},
   "outputs": [],
   "source": [
    "import random"
   ]
  },
  {
   "cell_type": "code",
   "execution_count": 98,
   "id": "0c7a5a93",
   "metadata": {},
   "outputs": [],
   "source": [
    "# vrednosti kao rate_of_senescence i max_score su uvek iste, pa neka budu staticke\n",
    "class Player:\n",
    "    rate_of_senescence = 10\n",
    "    maximum_score = 4\n",
    "    starting_score = 2\n",
    "    \n",
    "    mutation_probability = 0.05\n",
    "    # mozda neki drugi?\n",
    "    starting_age = 0\n",
    "    \n",
    "    def __init__(self, type_of_strategy):\n",
    "        self.strategy = Strategy(type_of_strategy)\n",
    "        self.age = Player.starting_age\n",
    "        self.score = Player.starting_score\n",
    "     \n",
    "    def check_death(self):\n",
    "        chance_death_old_age = (self.age / Player.rate_of_senescence) - 1  \n",
    "        # ocemo biramo da jedan umre at a time, ili samo ovako?\n",
    "        if random.random() < chance_death_old_age or self.score <= 0:\n",
    "            return True\n",
    "        return False\n",
    "    \n",
    "    def reborn(self, neighbours):\n",
    "        # moguci ishodi:\n",
    "        # 1) kopira sve od random suseda\n",
    "        # 2) mutacija => mala verovatnoca, uzima skroz random strategiju, i pocinje ispocetka\n",
    "        if random.random() < Player.mutation_probability:\n",
    "            self.mutation()\n",
    "        else:\n",
    "            selected_neighbour = random.choice(neighbours)\n",
    "            self.strategy = Strategy(selected_neighbour.strategy.type_of_strategy)\n",
    "            # pitaj andriju, skroz konfuzno\n",
    "            # self.strategy.previous_move = selected_neighbour.strategy.previous_move\n",
    "            self.age = selected_neighbour.age\n",
    "            self.score = selected_neighbour.score\n",
    "            \n",
    "        \n",
    "    def mutation(self):\n",
    "        # mala sansa da uzme random strategiju\n",
    "        self.strategy = Strategy(TypeOfStrategy(random.randint(1, len(TypeOfStrategy))))\n",
    "        self.age = Player.starting_age        \n",
    "        self.score = Player.starting_score\n"
   ]
  },
  {
   "cell_type": "code",
   "execution_count": 99,
   "id": "b5ba0952",
   "metadata": {},
   "outputs": [],
   "source": [
    "Cooperate = True\n",
    "Defect = False"
   ]
  },
  {
   "cell_type": "code",
   "execution_count": 100,
   "id": "d1c456a2",
   "metadata": {},
   "outputs": [],
   "source": [
    "payoff_values = {\n",
    "    \"T\" : 2,\n",
    "    \"R\" : 1,\n",
    "    \"P\" : 0,\n",
    "    \"S\" : -1\n",
    "}"
   ]
  },
  {
   "cell_type": "code",
   "execution_count": 101,
   "id": "e8a13c03",
   "metadata": {},
   "outputs": [],
   "source": [
    "payoff_matrix = {\n",
    "    (Cooperate, Cooperate) : (payoff_values[\"R\"], payoff_values[\"R\"]),\n",
    "    (Cooperate, Defect) : (payoff_values[\"S\"], payoff_values[\"T\"]),\n",
    "    (Defect, Cooperate) : (payoff_values[\"T\"], payoff_values[\"S\"]),\n",
    "    (Defect, Defect) : (payoff_values[\"P\"], payoff_values[\"P\"]),\n",
    "}"
   ]
  },
  {
   "cell_type": "code",
   "execution_count": 102,
   "id": "5f5365c1",
   "metadata": {},
   "outputs": [],
   "source": [
    "def play_game(player1, player2, player1_neighbours, player2_neighbours):\n",
    "    p1_move = player1.strategy.next_move(player2.strategy.previous_move)\n",
    "    p2_move = player2.strategy.next_move(player1.strategy.previous_move)    \n",
    "    \n",
    "    p1_payoff_value, p2_payoff_value = payoff_matrix[(p1_move, p2_move)]\n",
    "    \n",
    "    player1.score += p1_payoff_value\n",
    "    player2.score += p2_payoff_value\n",
    "    \n",
    "    if player1.check_death(player1_neighbours):\n",
    "        player1.reborn()\n",
    "    if player2.check_death(player2_neighbours):\n",
    "        player2.reborn()"
   ]
  },
  {
   "cell_type": "code",
   "execution_count": 84,
   "id": "1587e825",
   "metadata": {},
   "outputs": [],
   "source": [
    "# player1 = Player(Strategy(TypeOfStrategy.Cooperator))\n",
    "# player2 = Player(Strategy(TypeOfStrategy.Anti_tit_for_tat))\n",
    "# play_game(player1, player2)"
   ]
  },
  {
   "cell_type": "code",
   "execution_count": null,
   "id": "1b76e8eb",
   "metadata": {},
   "outputs": [],
   "source": []
  }
 ],
 "metadata": {
  "kernelspec": {
   "display_name": "Python 3 (ipykernel)",
   "language": "python",
   "name": "python3"
  },
  "language_info": {
   "codemirror_mode": {
    "name": "ipython",
    "version": 3
   },
   "file_extension": ".py",
   "mimetype": "text/x-python",
   "name": "python",
   "nbconvert_exporter": "python",
   "pygments_lexer": "ipython3",
   "version": "3.8.10"
  }
 },
 "nbformat": 4,
 "nbformat_minor": 5
}
